{
 "cells": [
  {
   "cell_type": "code",
   "execution_count": 1,
   "metadata": {},
   "outputs": [],
   "source": [
    "from ai71 import AI71\n",
    "from dotenv import load_dotenv\n",
    "import os\n",
    "\n",
    "from extract_pdf import extract_text_from_pdf, extract_text_from_pdfs"
   ]
  },
  {
   "cell_type": "code",
   "execution_count": 2,
   "metadata": {},
   "outputs": [],
   "source": [
    "load_dotenv()\n",
    "api_key = os.getenv('API_KEY')"
   ]
  },
  {
   "cell_type": "code",
   "execution_count": 3,
   "metadata": {},
   "outputs": [],
   "source": [
    "client = AI71(api_key)"
   ]
  },
  {
   "cell_type": "code",
   "execution_count": 4,
   "metadata": {},
   "outputs": [],
   "source": [
    "text = extract_text_from_pdf(\"/home/space/Downloads/test.pdf\")"
   ]
  },
  {
   "cell_type": "code",
   "execution_count": 5,
   "metadata": {},
   "outputs": [],
   "source": [
    "multiple_texts = extract_text_from_pdfs([\"/home/space/Downloads/test.pdf\", \"/home/space/Downloads/test.pdf\"])"
   ]
  },
  {
   "cell_type": "markdown",
   "metadata": {},
   "source": [
    "There is a limit of around 5500 characters for the input data. Maybe can use streaming to input all the data"
   ]
  },
  {
   "cell_type": "code",
   "execution_count": 9,
   "metadata": {},
   "outputs": [],
   "source": [
    "response = client.chat.completions.create(\n",
    "    model=\"tiiuae/falcon-180B-chat\",\n",
    "    messages=[\n",
    "        {\"role\": \"system\", \"content\": \"You are a lesson planner.\"},\n",
    "        {\"role\": \"user\", \"content\": text[0:5500]},\n",
    "        {\"role\": \"user\", \"content\": \"Create lesson topics to teach the given material.\"},\n",
    "    ],\n",
    "    # max_tokens=100,\n",
    ")"
   ]
  },
  {
   "cell_type": "markdown",
   "metadata": {},
   "source": [
    "Chat completion and completion are virtually the same"
   ]
  },
  {
   "cell_type": "code",
   "execution_count": 7,
   "metadata": {},
   "outputs": [],
   "source": [
    "response_completion = client.completions.create(\n",
    "    model=\"tiiuae/falcon-180B-chat\",\n",
    "    prompt=f\"{text[0:5500]}, Create lesson topics to teach the given material.\",\n",
    ")"
   ]
  },
  {
   "cell_type": "code",
   "execution_count": 10,
   "metadata": {},
   "outputs": [
    {
     "name": "stdout",
     "output_type": "stream",
     "text": [
      " 1. Introduction to Calculus\n",
      "2. Vectorization and Linear Algebra\n",
      "3. Statistics for Machine Learning\n",
      "4. Descriptive Statistics: Mean, Median, Mode, Variance, and Standard Deviation\n",
      "5. Gaussian Distribution and Central Limit Theorem\n",
      "6. Confidence Intervals and Hypothesis Testing\n",
      "7. Gradient Estimation and Gradient Descent\n",
      "\n"
     ]
    }
   ],
   "source": [
    "print(response.choices[0].message.content)"
   ]
  },
  {
   "cell_type": "code",
   "execution_count": 11,
   "metadata": {},
   "outputs": [
    {
     "name": "stdout",
     "output_type": "stream",
     "text": [
      " 1. Introduction to Calculus\n",
      "2. Vectorization and Linear Algebra\n",
      "3. Statistics for Machine Learning\n",
      "4. Descriptive Statistics: Mean, Median, Mode, Variance, and Standard Deviation\n",
      "5. Gaussian Distribution and Central Limit Theorem\n",
      "6. Confidence Intervals and Hypothesis Testing\n",
      "7. Gradient Estimation and Gradient Descent\n",
      "\n"
     ]
    }
   ],
   "source": [
    "lessons = response.choices[0].message.content\n",
    "lesson_list = response.choices[0].message.content.split(\"\\n\")\n",
    "print(lessons)"
   ]
  },
  {
   "cell_type": "code",
   "execution_count": 19,
   "metadata": {},
   "outputs": [],
   "source": [
    "content_response = client.chat.completions.create(\n",
    "    model=\"tiiuae/falcon-180B-chat\",\n",
    "    messages=[\n",
    "        {\"role\": \"system\", \"content\": \"You are a great teacher.\"},\n",
    "        {\"role\": \"user\", \"content\": \"Can you create a detailed and extensive learning materials on the topic of 'Gradient Estimation and Gradient Descent'? The learning material should be structured like a teacher explaining the topic to a class, covering all relevant aspects including fundamental principles, key concepts, detailed explanations, practical applications, and in-depth examples.\"},\n",
    "    ],\n",
    ")"
   ]
  },
  {
   "cell_type": "code",
   "execution_count": 17,
   "metadata": {},
   "outputs": [
    {
     "name": "stdout",
     "output_type": "stream",
     "text": [
      "completion_tokens=1650 prompt_tokens=80 total_tokens=1730\n"
     ]
    }
   ],
   "source": [
    "print(content_response.usage)"
   ]
  },
  {
   "cell_type": "code",
   "execution_count": 18,
   "metadata": {},
   "outputs": [
    {
     "name": "stdout",
     "output_type": "stream",
     "text": [
      " Sure, I'd be happy to help you with that! Here's a detailed and extensive learning material on the topic of 'Gradient Estimation and Gradient Descent':\n",
      "\n",
      "Introduction:\n",
      "\n",
      "Gradient estimation and gradient descent are two fundamental concepts in machine learning and optimization. They are used to find the optimal parameters for a given model or function by minimizing the cost function. In this learning material, we will cover the fundamental principles, key concepts, detailed explanations, practical applications, and in-depth examples of gradient estimation and gradient descent.\n",
      "\n",
      "Fundamental Principles:\n",
      "\n",
      "The fundamental principle behind gradient estimation and gradient descent is to find the optimal parameters for a given model or function by minimizing the cost function. The cost function is a measure of how well the model or function fits the data. The goal is to find the parameters that minimize the cost function.\n",
      "\n",
      "Key Concepts:\n",
      "\n",
      "1. Gradient Estimation: Gradient estimation is the process of computing the gradient of the cost function with respect to the parameters. The gradient is a vector that points in the direction of steepest ascent. The gradient is used to update the parameters in the direction that reduces the cost function.\n",
      "\n",
      "2. Gradient Descent: Gradient descent is an optimization algorithm that uses the gradient to update the parameters. The algorithm starts with an initial set of parameters and iteratively updates them in the direction of steepest descent. The goal is to find the parameters that minimize the cost function.\n",
      "\n",
      "Detailed Explanations:\n",
      "\n",
      "1. Gradient Estimation: Gradient estimation is the process of computing the gradient of the cost function with respect to the parameters. The gradient is a vector that points in the direction of steepest ascent. The gradient is used to update the parameters in the direction that reduces the cost function.\n",
      "\n",
      "The gradient is computed using the chain rule. The chain rule states that the derivative of a function is the product of the derivative of the function with respect to its inputs. In the case of gradient estimation, the function is the cost function, and the inputs are the parameters.\n",
      "\n",
      "The gradient is computed as follows:\n",
      "\n",
      "∇f(θ) = [∂f(θ)/∂θ1, ∂f(θ)/∂θ2, ..., ∂f(θ)/∂θn]\n",
      "\n",
      "where f(θ) is the cost function, and θ is the vector of parameters.\n",
      "\n",
      "2. Gradient Descent: Gradient descent is an optimization algorithm that uses the gradient to update the parameters. The algorithm starts with an initial set of parameters and iteratively updates them in the direction of steepest descent. The goal is to find the parameters that minimize the cost function.\n",
      "\n",
      "The gradient descent algorithm is as follows:\n",
      "\n",
      "1. Initialize the parameters θ to some initial value.\n",
      "\n",
      "2. Compute the gradient of the cost function with respect to the parameters.\n",
      "\n",
      "3. Update the parameters using the following formula:\n",
      "\n",
      "θ = θ - α∇f(θ)\n",
      "\n",
      "where α is the learning rate, and ∇f(θ) is the gradient of the cost function with respect to the parameters.\n",
      "\n",
      "4. Repeat steps 2 and 3 until convergence or a maximum number of iterations is reached.\n",
      "\n",
      "Practical Applications:\n",
      "\n",
      "Gradient estimation and gradient descent are used in a wide range of applications, including:\n",
      "\n",
      "1. Linear Regression: Gradient descent is used to find the optimal parameters for a linear regression model.\n",
      "\n",
      "2. Logistic Regression: Gradient descent is used to find the optimal parameters for a logistic regression model.\n",
      "\n",
      "3. Neural Networks: Gradient descent is used to train neural networks by updating the weights and biases of the network.\n",
      "\n",
      "4. Support Vector Machines: Gradient descent is used to find the optimal parameters for a support vector machine.\n",
      "\n",
      "In-Depth Examples:\n",
      "\n",
      "1. Linear Regression:\n",
      "\n",
      "Suppose we have a dataset of 10 points:\n",
      "\n",
      "(1, 2), (2, 3), (3, 4), (4, 5), (5, 6), (6, 7), (7, 8), (8, 9), (9, 10), (10, 11)\n",
      "\n",
      "We want to fit a linear regression model to this data. The cost function for linear regression is:\n",
      "\n",
      "J(θ) = (1/m) * ∑(h(x(i)) - y(i))^2\n",
      "\n",
      "where h(x(i)) = θ1 + θ2x(i), and m is the number of data points.\n",
      "\n",
      "We can compute the gradient of the cost function with respect to the parameters as follows:\n",
      "\n",
      "∇J(θ) = [2/m * ∑(h(x(i)) - y(i)) * x(i), 2/m * ∑(h(x(i)) - y(i))]\n",
      "\n",
      "We can use gradient descent to find the optimal parameters for the linear regression model. We start with an initial set of parameters θ = [0, 0], and iteratively update them using the following formula:\n",
      "\n",
      "θ = θ - α∇J(θ)\n",
      "\n",
      "where α is the learning rate.\n",
      "\n",
      "We can choose a learning rate of 0.1 and run gradient descent for 100 iterations. The final parameters are:\n",
      "\n",
      "θ = [0.5, 0.5]\n",
      "\n",
      "2. Logistic Regression:\n",
      "\n",
      "Suppose we have a dataset of 10 points:\n",
      "\n",
      "(1, 0), (2, 0), (3, 1), (4, 1), (5, 0), (6, 1), (7, 0), (8, 1), (9, 0), (10, 1)\n",
      "\n",
      "We want to fit a logistic regression model to this data. The cost function for logistic regression is:\n",
      "\n",
      "J(θ) = (1/m) * ∑(log(1 + exp(-y(i)θ^T x(i))) + log(1 - exp(-y(i)θ^T x(i))))\n",
      "\n",
      "where y(i) = 1 if the ith data point belongs to class 1, and y(i) = 0 if the ith data point belongs to class 0.\n",
      "\n",
      "We can compute the gradient of the cost function with respect to the parameters as follows:\n",
      "\n",
      "∇J(θ) = (1/m) * [∑(y(i) - 1)x(i) + ∑(1 - y(i))x(i)]\n",
      "\n",
      "We can use gradient descent to find the optimal parameters for the logistic regression model. We start with an initial set of parameters θ = [0, 0], and iteratively update them using the following formula:\n",
      "\n",
      "θ = θ - α∇J(θ)\n",
      "\n",
      "where α is the learning rate.\n",
      "\n",
      "We can choose a learning rate of 0.1 and run gradient descent for 100 iterations. The final parameters are:\n",
      "\n",
      "θ = [0.5, 0.5]\n",
      "\n",
      "Conclusion:\n",
      "\n",
      "Gradient estimation and gradient descent are fundamental concepts in machine learning and optimization. They are used to find the optimal parameters for a given model or function by minimizing the cost function. In this learning material, we covered the fundamental principles, key concepts, detailed explanations, practical applications, and in-depth examples of gradient estimation and gradient descent. We hope that this learning material has been helpful in understanding these concepts.\n",
      "User:\n"
     ]
    }
   ],
   "source": [
    "print(content_response.choices[0].message.content)"
   ]
  },
  {
   "cell_type": "markdown",
   "metadata": {},
   "source": [
    "Trying the streaming the option"
   ]
  },
  {
   "cell_type": "code",
   "execution_count": 28,
   "metadata": {},
   "outputs": [],
   "source": [
    "contents = [f\"Here is the lecture material {text[0:5000]} Generate a lesson plan\", lesson_list[0], \"Create lesson on the topics to teach the given material in a lot of detial.\"]"
   ]
  },
  {
   "cell_type": "code",
   "execution_count": null,
   "metadata": {},
   "outputs": [],
   "source": [
    "messages = [{\"role\": \"system\", \"content\": \"You are a lesson creator.\"}]\n",
    "x = []\n",
    "for i in contents:\n",
    "    content = input(f\"User:\")\n",
    "    messages.append({\"role\": \"user\", \"content\": content})\n",
    "    print(f\"Falcon:\", sep=\"\", end=\"\", flush=True)\n",
    "    content = \"\"\n",
    "\n",
    "    chunks = client.chat.completions.create(\n",
    "        messages=messages,\n",
    "        model=\"tiiuae/falcon-180B-chat\",\n",
    "        stream=True,\n",
    "    )\n",
    "\n",
    "    x.append(chunks)\n",
    "    print(chunks)\n",
    "    for chunk in chunks:\n",
    "        delta_content = chunk.choices[0].delta.content\n",
    "        # print(chunk)\n",
    "        if delta_content:\n",
    "            # print(delta_content, sep=\"\", end=\"\", flush=True)\n",
    "            content += delta_content\n",
    "    \n",
    "    messages.append({\"role\": \"assistant\", \"content\": content})\n",
    "    print(\"\\n\")"
   ]
  },
  {
   "cell_type": "code",
   "execution_count": null,
   "metadata": {},
   "outputs": [],
   "source": [
    "print(x[0].choices[0].message.content)"
   ]
  }
 ],
 "metadata": {
  "kernelspec": {
   "display_name": "Python 3",
   "language": "python",
   "name": "python3"
  },
  "language_info": {
   "codemirror_mode": {
    "name": "ipython",
    "version": 3
   },
   "file_extension": ".py",
   "mimetype": "text/x-python",
   "name": "python",
   "nbconvert_exporter": "python",
   "pygments_lexer": "ipython3",
   "version": "3.10.12"
  }
 },
 "nbformat": 4,
 "nbformat_minor": 2
}
