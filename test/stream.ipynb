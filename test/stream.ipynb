{
 "cells": [
  {
   "cell_type": "code",
   "execution_count": 66,
   "metadata": {},
   "outputs": [],
   "source": [
    "from ai71 import AI71\n",
    "from dotenv import load_dotenv\n",
    "import os\n",
    "import json\n",
    "import re\n",
    "from extract_pdf import extract_text_from_pdf, extract_text_from_pdfs, clean_text"
   ]
  },
  {
   "cell_type": "code",
   "execution_count": 4,
   "metadata": {},
   "outputs": [],
   "source": [
    "load_dotenv()\n",
    "api_key = os.getenv('API_KEY')"
   ]
  },
  {
   "cell_type": "code",
   "execution_count": 5,
   "metadata": {},
   "outputs": [],
   "source": [
    "client = AI71(api_key)"
   ]
  },
  {
   "cell_type": "markdown",
   "metadata": {},
   "source": [
    "## Pdf Extraction"
   ]
  },
  {
   "cell_type": "code",
   "execution_count": 6,
   "metadata": {},
   "outputs": [],
   "source": [
    "text = extract_text_from_pdf(\"/home/space/Downloads/test.pdf\")"
   ]
  },
  {
   "cell_type": "markdown",
   "metadata": {},
   "source": [
    "or"
   ]
  },
  {
   "cell_type": "code",
   "execution_count": 7,
   "metadata": {},
   "outputs": [],
   "source": [
    "multiple_texts = extract_text_from_pdfs([\"/home/space/Downloads/test.pdf\", \"/home/space/Downloads/test.pdf\"])"
   ]
  },
  {
   "cell_type": "code",
   "execution_count": 8,
   "metadata": {},
   "outputs": [
    {
     "name": "stdout",
     "output_type": "stream",
     "text": [
      "Text is too long\n"
     ]
    }
   ],
   "source": [
    "if len(text) > 4800:\n",
    "    print(\"Text is too long\")"
   ]
  },
  {
   "cell_type": "code",
   "execution_count": 109,
   "metadata": {},
   "outputs": [],
   "source": [
    "\n",
    "text = text.replace(\"\\n\", \" \")\n",
    "text = re.sub(r'\\s{2,}', ' ', text)\n",
    "\n",
    "if len(text) > 4500:\n",
    "    text_list = [text[i:i+4000] for i in range(0, len(text), 4000)]\n",
    "    "
   ]
  },
  {
   "cell_type": "code",
   "execution_count": 110,
   "metadata": {},
   "outputs": [
    {
     "name": "stdout",
     "output_type": "stream",
     "text": [
      "4000\n",
      "extreme 19.3% → .193 •since greater significance level (0.05) fail reject null hypothesis (reject coin fair). •there enough evidence reject coin fair. 3 1744 50 56 𝑝=0.193 •: null hypothesis (h0), probability getting sample extreme expectation (alternative hypothesis, h1). •example: null hypothesis coin fair (h0), alternative hypothesis (h1) coin fair •if coin fair, probability getting 60 heads sample extreme 3.2% → .032 •since smaller significance level (0.05) reject null hypothesis: •< alpha → reject null hypothesis. 3 1850 60 ref 𝑝=0. •if coin fair, probability getting heads sample extreme 0.0% → .00 •something wrong coin. reject null hypothesis, 3 1950 ref𝑝=0.000motivation gradient calculation •in machine learning implementation, often objective function want minimize iteratively. •we calculate gradient find minimum. 3 20what gradient? •derivative function 𝑓 direction fastest increase 𝑓 •one unit step 𝑥 direction increases 𝑓(𝑥) approximately 𝜕𝑓 𝜕𝑥 units 𝑥 direction. •gradient : vector ∇𝑓𝑥=𝜕𝑓 𝜕𝑥ො𝑥, ො𝑥 unit vector 𝑥 direction. 3 21 ∇𝑓𝑢=𝜕𝑓 𝜕𝑢ො𝑢: fastest increase ∇𝑓𝑢=−𝜕𝑓 𝜕𝑢ො𝑢: fastest decrease (steepest decent)direct gradient solution 3 22scaler, vectors matrices derivative output scalar 𝑦 vector 𝒚 matrix 𝒀 inputscalar 𝑥𝑑𝑦 𝑑𝑥𝜕𝒚 𝜕𝑥𝜕𝒀 𝜕𝑥 vector 𝒙𝜕𝑦 𝜕𝒙𝜕𝒚 𝜕𝒙𝜕𝒀 𝜕𝒙 matrix 𝑿𝜕𝑦 𝜕𝑿𝜕𝒚 𝜕𝑿𝜕𝒀 𝜕𝑿 3 23scalar, vectors matrices derivative output scalar 𝑦 vector 𝒚 matrix 𝒀 inputscalar 𝑥𝑑𝑦 𝑑𝑥𝜕𝒚 𝜕𝑥𝜕𝒀 𝜕𝑥 vector 𝒙𝜕𝑦 𝜕𝒙𝜕𝒚 𝜕𝒙𝜕𝒀 𝜕𝒙 matrix 𝑿𝜕𝑦 𝜕𝑿𝜕𝒚 𝜕𝑿𝜕𝒀 𝜕𝑿 3 24slope – straight line •𝑦=𝑤𝑥+𝑏 •𝑤 = slope line, (derivative line!) • 𝑏 = intersection line 𝑦 axis 𝑤=𝑟𝑖𝑠𝑒 𝑟𝑢𝑛=𝑦1−𝑦2 𝑥1−𝑥2 (𝑥1,𝑦1) (𝑥1,𝑦1)(𝑥1,𝑦1) (𝑥2,𝑦2) (𝑥2,𝑦2)(𝑥2,𝑦2)meaning : one unit step 𝑥 direction increases 𝑓(𝑥,𝑦) approximately 𝑤 units. 3 25derivative – curve •𝑦=𝑥2 𝑤=𝑟𝑖𝑠𝑒 𝑟𝑢𝑛=𝑦1−𝑦2 𝑥1−𝑥2 (𝑥1,𝑦1) (𝑥2,𝑦2) (𝑥2,𝑦2)tangent line : tangent line line touches curve point without crossing curve. (𝑥1,𝑦1) 3 26derivative – curve •𝑦=𝑥2 𝑤=𝑟𝑖𝑠𝑒 𝑟𝑢𝑛=𝑦1−𝑦2 𝑥1−𝑥2 (𝑥1,𝑦1) (𝑥2,𝑦2) (𝑥1,𝑦1) (𝑥2,𝑦2)the slope tangent line matches slope curve point. approximate derivative curve specific point slope tangent line. 3 27 derivative – curve •𝑦=𝑥2 𝑤=𝑟𝑖𝑠𝑒 𝑟𝑢𝑛=𝑦1−𝑦2 𝑥1−𝑥2 (𝑥1,𝑦1) (𝑥2,𝑦2) (𝑥2,𝑦2) 𝑑𝑦 𝑑𝑥=2𝑥(𝑥1,𝑦1) 3 28 derivative functions basic functions log exp 3 29 derivative functions •(inverse) trigonometry functions 3 30 exercise •calculate𝑑𝑦 𝑑𝑥 basic functions log exp (inverse) trigonometry functions𝑦 𝑦.5𝑥 𝑦3=𝑥6.5𝑦𝑥 𝑦 3𝑥 𝑦𝑥 3 31 exercise •calculate𝑑𝑦 𝑑𝑥 basic functions log exp (inverse) trigonometry functions𝑦1′=0 𝑦2′=5.5 𝑦3′=6.5𝑥5.5𝑦4′=5𝑥log5 𝑦 𝑥ln3 𝑦𝑥 3 32questions? 3 33derivative rules •constant multiply rule •sum rule •product rule •quotient rule𝑑𝑦 𝑑𝑥=𝑑𝑓𝑥 𝑑𝑥=𝑓′𝑥 𝑑[𝒄𝑓𝑥] 𝑑𝑥=𝒄𝑑𝑓𝑥 𝑑𝑥 𝑑[𝑓𝑥+𝑔(𝑥)] 𝑑𝑥=𝑑𝑓 𝑥 𝑑𝑥+𝑑𝑔 𝑥 𝑑𝑥 𝑑[𝑓𝑥𝑔(𝑥)] 𝑑𝑥=𝑓′𝑥𝑔𝑥+𝑓𝑥𝑔′𝑥 𝑑𝑓𝑥 𝑔𝑥 𝑑𝑥=𝑓′𝑥𝑔𝑥−𝑓𝑥𝑔′𝑥 𝑔𝑥2order matters! 3 34•calculate basic functions log exp 𝑦𝑥6.5 𝑦𝑥6..5𝑒𝑥 𝑦4=𝑥2 𝑒𝑥𝑦3=𝑥2ln𝑥exercise 𝑑𝑦 𝑑𝑥 3 35•calculate basic functions log exp 𝑦1′= 13𝑥5.5 𝑦2′=13𝑥5..5𝑒𝑥 𝑦4′=2𝑥−𝑥2 𝑒𝑥𝑦3′=𝑥+2𝑥ln𝑥exercise 𝑑𝑦 𝑑𝑥 -\n"
     ]
    }
   ],
   "source": [
    "print(len(text_list[1]))\n",
    "print(clean_text(text_list[1]))\n",
    "test = [text_list[0], text_list[0], text_list[0]]\n"
   ]
  },
  {
   "cell_type": "markdown",
   "metadata": {},
   "source": [
    "## Lesson topic generation"
   ]
  },
  {
   "cell_type": "code",
   "execution_count": 193,
   "metadata": {},
   "outputs": [],
   "source": [
    "def create_lesson_topics(text_list):\n",
    "    lesson_topics = []\n",
    "    if len(text_list) == 1:\n",
    "        response = client.chat.completions.create(\n",
    "        model=\"tiiuae/falcon-180B-chat\",\n",
    "        messages=[\n",
    "            {\"role\": \"system\", \"content\": \"You are a lesson planner.\"},\n",
    "            {\"role\": \"user\", \"content\": text_list},\n",
    "            {\"role\": \"user\", \"content\": \"Create 3 small lesson topics to teach the given material in json format giving a proper explanation on what the lesson should teach.\"},\n",
    "        ],\n",
    "        )\n",
    "        lesson_topics.append(response)\n",
    "    else:\n",
    "        response = client.chat.completions.create(\n",
    "            model=\"tiiuae/falcon-180B-chat\",\n",
    "            messages=[\n",
    "                {\"role\": \"system\", \"content\": \"You are a lesson planner.\"},\n",
    "                {\"role\": \"user\", \"content\": text_list[0]},\n",
    "                {\"role\": \"user\", \"content\": \"Suggest 3 small lesson topics that can be taught from the given material and give a proper explanation on what the lesson should teach. Please provide the topics in json format like this: [{'topic': 'topic name', 'explanation': 'explanation of the topic'}]\"},\n",
    "            ],\n",
    "            )\n",
    "        lesson_topics.append(response)\n",
    "        for i in text_list[1:len(text_list)]:\n",
    "            \n",
    "            response = client.chat.completions.create(\n",
    "            model=\"tiiuae/falcon-180B-chat\",\n",
    "            messages=[\n",
    "                {\"role\": \"system\", \"content\": \"You are a lesson planner.\"},\n",
    "                {\"role\": \"user\", \"content\": i},\n",
    "                {\"role\": \"user\", \"content\": f\"{response} are the topics which have already been covered (please do not suggest them or their related subtopics). Suggest 2 more topics to teach the given material in json format giving a proper explanation on what the lesson should teach. The json format should be like this: [{{'topic': 'topic name', 'explanation': 'explanation of the topic'/}}]. Please only respond with the new topics and their explanations in json, not the old ones.\"},\n",
    "            ],\n",
    "            )\n",
    "            lesson_topics.append(response)\n",
    "    return lesson_topics"
   ]
  },
  {
   "cell_type": "markdown",
   "metadata": {},
   "source": [
    "I WILL BLOW UPPPPP.\n",
    "text_list[0] works but text_[1] doesnt work. Prolly an issue with the text formatting. \n",
    "Fix that and then you can give it chunks and ask it to create the topics in chunks"
   ]
  },
  {
   "cell_type": "code",
   "execution_count": 194,
   "metadata": {},
   "outputs": [],
   "source": [
    "response = create_lesson_topics(test)"
   ]
  },
  {
   "cell_type": "code",
   "execution_count": 157,
   "metadata": {},
   "outputs": [],
   "source": [
    "# Function to clean and fix the JSON strings\n",
    "def fix_json_string(json_string):\n",
    "    # Removing leading and trailing spaces and newlines\n",
    "    json_string = json_string.strip()\n",
    "    # Adding brackets if they are missing\n",
    "    if not json_string.startswith('['):\n",
    "        json_string = '[' + json_string\n",
    "    if not json_string.endswith(']'):\n",
    "        json_string = json_string + ']'\n",
    "    # Ensure proper comma separation between objects\n",
    "    json_string = json_string.replace('}\\n', '},\\n').replace('},\\n]', '}\\n]')\n",
    "    return json_string"
   ]
  },
  {
   "cell_type": "code",
   "execution_count": 195,
   "metadata": {},
   "outputs": [
    {
     "name": "stdout",
     "output_type": "stream",
     "text": [
      " [\n",
      "  {'topic': 'Calculus Overview', 'explanation': 'This lesson will provide an overview of calculus, including topics such as vectorization, linear algebra, and statistics. It will cover the basics of calculus and its applications in machine learning.'},\n",
      "  {'topic': 'Descriptive Statistics', 'explanation': 'This lesson will focus on descriptive statistics, including mean, median, mode, variance, and standard deviation. It will teach students how to calculate and interpret these statistics, and how they are used in machine learning.'},\n",
      "  {'topic': 'Hypothesis Testing', 'explanation': 'This lesson will cover hypothesis testing, including the definition, process, and key concepts such as null hypothesis, alternative hypothesis, significance level, and p-value. It will teach students how to formulate and test hypotheses, and how to make decisions based on the results.'}\n",
      "]\n",
      " [\n",
      "  {\n",
      "    \"topic\": \"Gradient Estimation\",\n",
      "    \"explanation\": \"This lesson will teach students how to estimate gradients in machine learning. It will cover the basics of gradient estimation, including the difference between finite differences and analytical gradients, and how to implement gradient estimation in code.\"\n",
      "  },\n",
      "  {\n",
      "    \"topic\": \"Partial Derivatives\",\n",
      "    \"explanation\": \"This lesson will focus on partial derivatives and their applications in machine learning. It will teach students how to calculate partial derivatives, how they are used in optimization algorithms, and how to implement them in code.\"\n",
      "  }\n",
      "]\n",
      "\n",
      " [\n",
      "  {\n",
      "    \"topic\": \"Vectorization\",\n",
      "    \"explanation\": \"This lesson will teach students how to vectorize data for machine learning. It will cover the basics of vectorization, including how to convert tabular, image, and text data into a vector format that can be understood by machines. Students will learn how to use vectorization techniques to improve the accuracy and efficiency of their machine learning models.\"\n",
      "  },\n",
      "  {\n",
      "    \"topic\": \"Linear Algebra\",\n",
      "    \"explanation\": \"This lesson will focus on the fundamentals of linear algebra and its applications in machine learning. It will teach students how to work with matrices, vectors, and linear equations, and how to use linear algebra to solve common machine learning problems such as regression and classification. Students will also learn how to implement linear algebra techniques in code.\"\n",
      "  }\n",
      "]\n",
      "\n"
     ]
    }
   ],
   "source": [
    "json_strings = [resp.choices[0].message.content.replace(\"User:\", \"\") for resp in response]\n",
    "\n",
    "for i in json_strings:\n",
    "    print(i)"
   ]
  },
  {
   "cell_type": "code",
   "execution_count": 196,
   "metadata": {},
   "outputs": [
    {
     "name": "stdout",
     "output_type": "stream",
     "text": [
      "Error decoding JSON: Expecting property name enclosed in double quotes: line 2 column 4 (char 5)\n"
     ]
    }
   ],
   "source": [
    "\n",
    "all_lessons = []\n",
    "\n",
    "# Iterate through each JSON string, fix the formatting, parse it, and extend the all_lessons list\n",
    "for json_str in json_strings:\n",
    "    try:\n",
    "        fixed_json_str = fix_json_string(json_str)\n",
    "        lessons = json.loads(fixed_json_str)\n",
    "        all_lessons.extend(lessons)\n",
    "    except json.JSONDecodeError as e:\n",
    "        print(f\"Error decoding JSON: {e}\")\n",
    "\n",
    "# Merge the dictionaries into a single dictionary\n",
    "merged_dict = {lesson['topic']: lesson['explanation'] for lesson in all_lessons}\n",
    "\n"
   ]
  },
  {
   "cell_type": "code",
   "execution_count": 252,
   "metadata": {},
   "outputs": [
    {
     "name": "stdout",
     "output_type": "stream",
     "text": [
      "Gradient Estimation: This lesson will teach students how to estimate gradients in machine learning. It will cover the basics of gradient estimation, including the difference between finite differences and analytical gradients, and how to implement gradient estimation in code.\n",
      "Partial Derivatives: This lesson will focus on partial derivatives and their applications in machine learning. It will teach students how to calculate partial derivatives, how they are used in optimization algorithms, and how to implement them in code.\n",
      "Vectorization: This lesson will teach students how to vectorize data for machine learning. It will cover the basics of vectorization, including how to convert tabular, image, and text data into a vector format that can be understood by machines. Students will learn how to use vectorization techniques to improve the accuracy and efficiency of their machine learning models.\n",
      "Linear Algebra: This lesson will focus on the fundamentals of linear algebra and its applications in machine learning. It will teach students how to work with matrices, vectors, and linear equations, and how to use linear algebra to solve common machine learning problems such as regression and classification. Students will also learn how to implement linear algebra techniques in code.\n"
     ]
    }
   ],
   "source": [
    "Giga = {\n",
    "    \"lesson_topics\": merged_dict,\n",
    "    \"lessons\": {},\n",
    "}\n",
    "\n",
    "\n",
    "for key, value in Giga[\"lesson_topics\"].items():\n",
    "    print(f\"{key}: {value}\")"
   ]
  },
  {
   "cell_type": "markdown",
   "metadata": {},
   "source": [
    "## Lesson Generators"
   ]
  },
  {
   "cell_type": "code",
   "execution_count": 231,
   "metadata": {},
   "outputs": [],
   "source": [
    "def create_lesson(topic, explanation):\n",
    "    response = client.chat.completions.create(\n",
    "        model=\"tiiuae/falcon-180B-chat\",\n",
    "        messages=[\n",
    "            {\"role\": \"system\", \"content\": \"You are a great teacher bot. You create emersive lessons for students. They are straight to the point and not addressed to anyone. You are writing long and extensive course material that is easy to understand.\"},\n",
    "            {\"role\": \"user\", \"content\": f\"Write a long, detailed and extensive overview for '{topic}'. It should be structured like a teacher explaining the topic to a class, covering all relevant aspects including fundamental principles, key concepts, detailed explanations, practical applications, and in-depth examples. {explanation}\"},\n",
    "        ],\n",
    "    )\n",
    "    return response"
   ]
  },
  {
   "cell_type": "code",
   "execution_count": 257,
   "metadata": {},
   "outputs": [],
   "source": [
    "def create_lessons(lesson_topics):\n",
    "    lessons = {}\n",
    "    for topic, explanation in lesson_topics.items():\n",
    "        print(f\"Creating lesson for topic: {topic}\")\n",
    "        response = create_lesson(topic, explanation)\n",
    "        print(f\"Lesson created for topic: {topic}\")\n",
    "        lessons[topic] = response.choices[0].message.content\n",
    "    return lessons"
   ]
  },
  {
   "cell_type": "code",
   "execution_count": null,
   "metadata": {},
   "outputs": [],
   "source": [
    "BRUH = create_lessons(Giga[\"lesson_topics\"])"
   ]
  },
  {
   "cell_type": "code",
   "execution_count": 261,
   "metadata": {},
   "outputs": [
    {
     "name": "stdout",
     "output_type": "stream",
     "text": [
      "dict_keys(['Gradient Estimation', 'Partial Derivatives', 'Vectorization', 'Linear Algebra'])\n"
     ]
    }
   ],
   "source": [
    "print(BRUH.keys())"
   ]
  },
  {
   "cell_type": "code",
   "execution_count": null,
   "metadata": {},
   "outputs": [],
   "source": [
    "print(BRUH['Partial Derivatives'])"
   ]
  },
  {
   "cell_type": "code",
   "execution_count": 232,
   "metadata": {},
   "outputs": [],
   "source": [
    "topics = list(Giga[\"lesson_topics\"].keys())\n",
    "topic = topics[0]\n",
    "explanation = Giga[\"lesson_topics\"][topic]\n",
    "\n",
    "response = create_lesson(topic, explanation)"
   ]
  },
  {
   "cell_type": "code",
   "execution_count": 233,
   "metadata": {},
   "outputs": [
    {
     "name": "stdout",
     "output_type": "stream",
     "text": [
      "completion_tokens=860 prompt_tokens=146 total_tokens=1006\n"
     ]
    }
   ],
   "source": [
    "print(response.usage)"
   ]
  },
  {
   "cell_type": "code",
   "execution_count": 235,
   "metadata": {},
   "outputs": [
    {
     "name": "stdout",
     "output_type": "stream",
     "text": [
      " Good day, class! Today, we will be discussing the topic of Gradient Estimation in Machine Learning. This is an essential concept that is used extensively in various machine learning algorithms.\n",
      "\n",
      "To begin with, let's define what a gradient is. In simple terms, a gradient is a vector that points in the direction of the steepest ascent of a function. It is a crucial component in optimizing machine learning models as it helps us determine the direction in which we need to update our model parameters to minimize the loss function.\n",
      "\n",
      "Now, let's move on to gradient estimation. In machine learning, we often deal with complex functions that are difficult or impossible to differentiate analytically. This is where gradient estimation comes into play. It allows us to approximate the true gradient of a function using numerical methods.\n",
      "\n",
      "There are two main approaches to gradient estimation: finite differences and analytical gradients. Let's discuss each of these methods in detail.\n",
      "\n",
      "1. Finite Differences:\n",
      "\n",
      "Finite differences is a numerical method used to approximate the derivative of a function at a particular point. The basic idea behind this method is to calculate the slope of the tangent line to the curve at a given point by evaluating the function at two nearby points.\n",
      "\n",
      "There are two types of finite differences: forward difference and backward difference. In forward difference, we approximate the derivative at a point by taking the difference between the function values at that point and the next point. In backward difference, we approximate the derivative by taking the difference between the function values at that point and the previous point.\n",
      "\n",
      "While finite differences are easy to implement and work well for simple functions, they can be computationally expensive for complex functions as they require evaluating the function at multiple points.\n",
      "\n",
      "2. Analytical Gradients:\n",
      "\n",
      "Analytical gradients, as the name suggests, involve computing the derivative of a function analytically. This method is more efficient than finite differences as it requires evaluating the function only once.\n",
      "\n",
      "However, not all functions can be differentiated analytically, and even for those that can, computing the derivative can be computationally expensive.\n",
      "\n",
      "Now that we have discussed the two main approaches to gradient estimation let's move on to implementing gradient estimation in code.\n",
      "\n",
      "In Python, we can use the NumPy library to compute gradients using finite differences. Here's an example:\n",
      "\n",
      "```\n",
      "import numpy as np\n",
      "\n",
      "def finite_difference(f, x, h=1e-6):\n",
      "    return (f(x + h) - f(x - h)) / (2 * h)\n",
      "\n",
      "def gradient_descent(f, x0, learning_rate=0.01, num_iterations=100):\n",
      "    x = x0\n",
      "    for i in range(num_iterations):\n",
      "        gradient = finite_difference(f, x)\n",
      "        x -= learning_rate * gradient\n",
      "    return x\n",
      "```\n",
      "\n",
      "In this code, we define two functions: `finite_difference` and `gradient_descent`. The `finite_difference` function takes a function `f`, a point `x`, and a step size `h` (default value is 1e-6) and returns the approximate gradient at that point using finite differences.\n",
      "\n",
      "The `gradient_descent` function takes a function `f`, an initial point `x0`, a learning rate (default value is 0.01), and the number of iterations (default value is 100). It then uses the `finite_difference` function to approximate the gradient at each iteration and updates the parameter vector `x` accordingly.\n",
      "\n",
      "In conclusion, gradient estimation is a crucial concept in machine learning that allows us to optimize our models efficiently. By approximating the true gradient using numerical methods like finite differences or analytical gradients, we can update our model parameters and minimize the loss function. I hope this lesson has helped you understand the basics of gradient estimation and how to implement it in code. Thank you for your attention, and I look forward to our next lesson!\n"
     ]
    }
   ],
   "source": [
    "lesson = response.choices[0].message.content\n",
    "print(lesson)"
   ]
  },
  {
   "cell_type": "markdown",
   "metadata": {},
   "source": [
    "## Generate Quiz"
   ]
  },
  {
   "cell_type": "code",
   "execution_count": 249,
   "metadata": {},
   "outputs": [],
   "source": [
    "def generate_quiz(topic, lesson):\n",
    "    response = client.chat.completions.create(\n",
    "        model=\"tiiuae/falcon-180B-chat\",\n",
    "        messages=[\n",
    "            {\"role\": \"system\", \"content\": \"You are a quiz bot. You create quizzes for students to test their knowledge on a specific topic. Your quizzes are multiple choice questions with 4 options and True and False.\"},\n",
    "            {\"role\": \"user\", \"content\": f\"Create a quiz for the topic '{topic}' and lesson: {lesson}. The quiz should have 5 multiple choice questions, each with 4 options. The questions should be designed to test the student's understanding of the lesson. The correct answer should be one of the 4 options. The quiz should also have 5 true or false questions. The quiz should be engaging and informative. The answers to all the questions should be given at the end\"},\n",
    "        ],\n",
    "    )\n",
    "    return response"
   ]
  },
  {
   "cell_type": "code",
   "execution_count": 250,
   "metadata": {},
   "outputs": [],
   "source": [
    "response = generate_quiz(topic, lesson)"
   ]
  },
  {
   "cell_type": "code",
   "execution_count": 267,
   "metadata": {},
   "outputs": [],
   "source": [
    "questions = response.choices[0].message.content.replace(\"User:\", \"\")"
   ]
  },
  {
   "cell_type": "code",
   "execution_count": 268,
   "metadata": {},
   "outputs": [
    {
     "name": "stdout",
     "output_type": "stream",
     "text": [
      " of the quiz.\n",
      "\n",
      "1. What is a gradient in machine learning?\n",
      "A. A vector that points in the direction of the steepest ascent of a function\n",
      "B. A vector that points in the direction of the steepest descent of a function\n",
      "C. A vector that points in the direction of the shallowest ascent of a function\n",
      "D. A vector that points in the direction of the shallowest descent of a function\n",
      "\n",
      "2. What is gradient estimation?\n",
      "A. A method used to differentiate a function analytically\n",
      "B. A method used to approximate the true gradient of a function using numerical methods\n",
      "C. A method used to optimize machine learning models\n",
      "D. A method used to minimize the loss function\n",
      "\n",
      "3. What are the two main approaches to gradient estimation?\n",
      "A. Forward difference and backward difference\n",
      "B. Analytical gradients and finite differences\n",
      "C. True gradients and false gradients\n",
      "D. Steepest ascent and steepest descent\n",
      "\n",
      "4. What is the `finite_difference` function used for in the code provided?\n",
      "A. To compute the derivative of a function analytically\n",
      "B. To compute the approximate gradient of a function using finite differences\n",
      "C. To update the parameter vector during gradient descent\n",
      "D. To initialize the parameter vector during gradient descent\n",
      "\n",
      "5. What is the `gradient_descent` function used for in the code provided?\n",
      "A. To compute the derivative of a function analytically\n",
      "B. To compute the approximate gradient of a function using finite differences\n",
      "C. To update the parameter vector during gradient descent\n",
      "D. To initialize the parameter vector during gradient descent\n",
      "\n",
      "6. True or False: Gradient estimation is an essential concept in machine learning that allows us to optimize our models efficiently.\n",
      "A. True\n",
      "B. False\n",
      "\n",
      "7. True or False: Finite differences is a numerical method used to approximate the derivative of a function at a particular point.\n",
      "A. True\n",
      "B. False\n",
      "\n",
      "8. True or False: Analytical gradients involve computing the derivative of a function analytically.\n",
      "A. True\n",
      "B. False\n",
      "\n",
      "9. True or False: The `finite_difference` function in the code provided takes a function `f`, a point `x`, and a step size `h` as input and returns the approximate gradient at that point using finite differences.\n",
      "A. True\n",
      "B. False\n",
      "\n",
      "10. True or False: The `gradient_descent` function in the code provided uses the `finite_difference` function to approximate the gradient at each iteration and updates the parameter vector `x` accordingly.\n",
      "A. True\n",
      "B. False\n",
      "\n",
      "Answers:\n",
      "1. A\n",
      "2. B\n",
      "3. B\n",
      "4. B\n",
      "5. C\n",
      "6. A\n",
      "7. A\n",
      "8. A\n",
      "9. A\n",
      "10. A\n",
      "\n"
     ]
    }
   ],
   "source": [
    "print(questions)"
   ]
  }
 ],
 "metadata": {
  "kernelspec": {
   "display_name": "Python 3",
   "language": "python",
   "name": "python3"
  },
  "language_info": {
   "codemirror_mode": {
    "name": "ipython",
    "version": 3
   },
   "file_extension": ".py",
   "mimetype": "text/x-python",
   "name": "python",
   "nbconvert_exporter": "python",
   "pygments_lexer": "ipython3",
   "version": "3.10.12"
  }
 },
 "nbformat": 4,
 "nbformat_minor": 2
}
