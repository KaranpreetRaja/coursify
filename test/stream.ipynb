{
 "cells": [
  {
   "cell_type": "code",
   "execution_count": 40,
   "metadata": {},
   "outputs": [],
   "source": [
    "from ai71 import AI71\n",
    "from dotenv import load_dotenv\n",
    "import os\n",
    "import json\n",
    "import re\n",
    "from extract_pdf import extract_text_from_pdf, extract_text_from_pdfs, clean_text"
   ]
  },
  {
   "cell_type": "code",
   "execution_count": 41,
   "metadata": {},
   "outputs": [],
   "source": [
    "load_dotenv()\n",
    "api_key = os.getenv('API_KEY')"
   ]
  },
  {
   "cell_type": "code",
   "execution_count": 42,
   "metadata": {},
   "outputs": [],
   "source": [
    "client = AI71(api_key)"
   ]
  },
  {
   "cell_type": "markdown",
   "metadata": {},
   "source": [
    "## Pdf Extraction"
   ]
  },
  {
   "cell_type": "code",
   "execution_count": 43,
   "metadata": {},
   "outputs": [],
   "source": [
    "text = extract_text_from_pdf(\"/home/space/Downloads/test.pdf\")"
   ]
  },
  {
   "cell_type": "markdown",
   "metadata": {},
   "source": [
    "or"
   ]
  },
  {
   "cell_type": "code",
   "execution_count": 44,
   "metadata": {},
   "outputs": [],
   "source": [
    "multiple_texts = extract_text_from_pdfs([\"/home/space/Downloads/test.pdf\", \"/home/space/Downloads/test.pdf\"])"
   ]
  },
  {
   "cell_type": "code",
   "execution_count": 45,
   "metadata": {},
   "outputs": [
    {
     "name": "stdout",
     "output_type": "stream",
     "text": [
      "Text is too long\n"
     ]
    }
   ],
   "source": [
    "if len(text) > 4800:\n",
    "    print(\"Text is too long\")"
   ]
  },
  {
   "cell_type": "code",
   "execution_count": 46,
   "metadata": {},
   "outputs": [],
   "source": [
    "\n",
    "text = text.replace(\"\\n\", \" \")\n",
    "text = re.sub(r'\\s{2,}', ' ', text)\n",
    "\n",
    "if len(text) > 4500:\n",
    "    text_list = [text[i:i+4000] for i in range(0, len(text), 4000)]\n",
    "    "
   ]
  },
  {
   "cell_type": "code",
   "execution_count": 47,
   "metadata": {},
   "outputs": [
    {
     "name": "stdout",
     "output_type": "stream",
     "text": [
      "4000\n",
      "extreme 19.3% → .193 •since greater significance level (0.05) fail reject null hypothesis (reject coin fair). •there enough evidence reject coin fair. 3 1744 50 56 𝑝=0.193 •: null hypothesis (h0), probability getting sample extreme expectation (alternative hypothesis, h1). •example: null hypothesis coin fair (h0), alternative hypothesis (h1) coin fair •if coin fair, probability getting 60 heads sample extreme 3.2% → .032 •since smaller significance level (0.05) reject null hypothesis: •< alpha → reject null hypothesis. 3 1850 60 ref 𝑝=0. •if coin fair, probability getting heads sample extreme 0.0% → .00 •something wrong coin. reject null hypothesis, 3 1950 ref𝑝=0.000motivation gradient calculation •in machine learning implementation, often objective function want minimize iteratively. •we calculate gradient find minimum. 3 20what gradient? •derivative function 𝑓 direction fastest increase 𝑓 •one unit step 𝑥 direction increases 𝑓(𝑥) approximately 𝜕𝑓 𝜕𝑥 units 𝑥 direction. •gradient : vector ∇𝑓𝑥=𝜕𝑓 𝜕𝑥ො𝑥, ො𝑥 unit vector 𝑥 direction. 3 21 ∇𝑓𝑢=𝜕𝑓 𝜕𝑢ො𝑢: fastest increase ∇𝑓𝑢=−𝜕𝑓 𝜕𝑢ො𝑢: fastest decrease (steepest decent)direct gradient solution 3 22scaler, vectors matrices derivative output scalar 𝑦 vector 𝒚 matrix 𝒀 inputscalar 𝑥𝑑𝑦 𝑑𝑥𝜕𝒚 𝜕𝑥𝜕𝒀 𝜕𝑥 vector 𝒙𝜕𝑦 𝜕𝒙𝜕𝒚 𝜕𝒙𝜕𝒀 𝜕𝒙 matrix 𝑿𝜕𝑦 𝜕𝑿𝜕𝒚 𝜕𝑿𝜕𝒀 𝜕𝑿 3 23scalar, vectors matrices derivative output scalar 𝑦 vector 𝒚 matrix 𝒀 inputscalar 𝑥𝑑𝑦 𝑑𝑥𝜕𝒚 𝜕𝑥𝜕𝒀 𝜕𝑥 vector 𝒙𝜕𝑦 𝜕𝒙𝜕𝒚 𝜕𝒙𝜕𝒀 𝜕𝒙 matrix 𝑿𝜕𝑦 𝜕𝑿𝜕𝒚 𝜕𝑿𝜕𝒀 𝜕𝑿 3 24slope – straight line •𝑦=𝑤𝑥+𝑏 •𝑤 = slope line, (derivative line!) • 𝑏 = intersection line 𝑦 axis 𝑤=𝑟𝑖𝑠𝑒 𝑟𝑢𝑛=𝑦1−𝑦2 𝑥1−𝑥2 (𝑥1,𝑦1) (𝑥1,𝑦1)(𝑥1,𝑦1) (𝑥2,𝑦2) (𝑥2,𝑦2)(𝑥2,𝑦2)meaning : one unit step 𝑥 direction increases 𝑓(𝑥,𝑦) approximately 𝑤 units. 3 25derivative – curve •𝑦=𝑥2 𝑤=𝑟𝑖𝑠𝑒 𝑟𝑢𝑛=𝑦1−𝑦2 𝑥1−𝑥2 (𝑥1,𝑦1) (𝑥2,𝑦2) (𝑥2,𝑦2)tangent line : tangent line line touches curve point without crossing curve. (𝑥1,𝑦1) 3 26derivative – curve •𝑦=𝑥2 𝑤=𝑟𝑖𝑠𝑒 𝑟𝑢𝑛=𝑦1−𝑦2 𝑥1−𝑥2 (𝑥1,𝑦1) (𝑥2,𝑦2) (𝑥1,𝑦1) (𝑥2,𝑦2)the slope tangent line matches slope curve point. approximate derivative curve specific point slope tangent line. 3 27 derivative – curve •𝑦=𝑥2 𝑤=𝑟𝑖𝑠𝑒 𝑟𝑢𝑛=𝑦1−𝑦2 𝑥1−𝑥2 (𝑥1,𝑦1) (𝑥2,𝑦2) (𝑥2,𝑦2) 𝑑𝑦 𝑑𝑥=2𝑥(𝑥1,𝑦1) 3 28 derivative functions basic functions log exp 3 29 derivative functions •(inverse) trigonometry functions 3 30 exercise •calculate𝑑𝑦 𝑑𝑥 basic functions log exp (inverse) trigonometry functions𝑦 𝑦.5𝑥 𝑦3=𝑥6.5𝑦𝑥 𝑦 3𝑥 𝑦𝑥 3 31 exercise •calculate𝑑𝑦 𝑑𝑥 basic functions log exp (inverse) trigonometry functions𝑦1′=0 𝑦2′=5.5 𝑦3′=6.5𝑥5.5𝑦4′=5𝑥log5 𝑦 𝑥ln3 𝑦𝑥 3 32questions? 3 33derivative rules •constant multiply rule •sum rule •product rule •quotient rule𝑑𝑦 𝑑𝑥=𝑑𝑓𝑥 𝑑𝑥=𝑓′𝑥 𝑑[𝒄𝑓𝑥] 𝑑𝑥=𝒄𝑑𝑓𝑥 𝑑𝑥 𝑑[𝑓𝑥+𝑔(𝑥)] 𝑑𝑥=𝑑𝑓 𝑥 𝑑𝑥+𝑑𝑔 𝑥 𝑑𝑥 𝑑[𝑓𝑥𝑔(𝑥)] 𝑑𝑥=𝑓′𝑥𝑔𝑥+𝑓𝑥𝑔′𝑥 𝑑𝑓𝑥 𝑔𝑥 𝑑𝑥=𝑓′𝑥𝑔𝑥−𝑓𝑥𝑔′𝑥 𝑔𝑥2order matters! 3 34•calculate basic functions log exp 𝑦𝑥6.5 𝑦𝑥6..5𝑒𝑥 𝑦4=𝑥2 𝑒𝑥𝑦3=𝑥2ln𝑥exercise 𝑑𝑦 𝑑𝑥 3 35•calculate basic functions log exp 𝑦1′= 13𝑥5.5 𝑦2′=13𝑥5..5𝑒𝑥 𝑦4′=2𝑥−𝑥2 𝑒𝑥𝑦3′=𝑥+2𝑥ln𝑥exercise 𝑑𝑦 𝑑𝑥 -\n"
     ]
    }
   ],
   "source": [
    "print(len(text_list[1]))\n",
    "print(clean_text(text_list[1]))\n",
    "test = [text_list[0], text_list[0], text_list[0]]\n"
   ]
  },
  {
   "cell_type": "markdown",
   "metadata": {},
   "source": [
    "## Lesson topic generation"
   ]
  },
  {
   "cell_type": "code",
   "execution_count": 48,
   "metadata": {},
   "outputs": [],
   "source": [
    "def create_lesson_topics(text_list):\n",
    "    lesson_topics = []\n",
    "    if len(text_list) == 1:\n",
    "        response = client.chat.completions.create(\n",
    "        model=\"tiiuae/falcon-180B-chat\",\n",
    "        messages=[\n",
    "            {\"role\": \"system\", \"content\": \"You are a lesson planner.\"},\n",
    "            {\"role\": \"user\", \"content\": text_list},\n",
    "            {\"role\": \"user\", \"content\": \"Create 3 small lesson topics to teach the given material in json format giving a proper explanation on what the lesson should teach.\"},\n",
    "        ],\n",
    "        )\n",
    "        lesson_topics.append(response)\n",
    "    else:\n",
    "        response = client.chat.completions.create(\n",
    "            model=\"tiiuae/falcon-180B-chat\",\n",
    "            messages=[\n",
    "                {\"role\": \"system\", \"content\": \"You are a lesson planner.\"},\n",
    "                {\"role\": \"user\", \"content\": text_list[0]},\n",
    "                {\"role\": \"user\", \"content\": \"Suggest 2 small lesson topics that can be taught from the given material and give a proper explanation on what the lesson should teach. Please provide the topics in json format like this: [{'topic': 'topic name', 'explanation': 'explanation of the topic'}]\"},\n",
    "            ],\n",
    "            )\n",
    "        lesson_topics.append(response)\n",
    "        for i in text_list[1:len(text_list)]:\n",
    "            \n",
    "            response = client.chat.completions.create(\n",
    "            model=\"tiiuae/falcon-180B-chat\",\n",
    "            messages=[\n",
    "                {\"role\": \"system\", \"content\": \"You are a lesson planner.\"},\n",
    "                {\"role\": \"user\", \"content\": i},\n",
    "                {\"role\": \"user\", \"content\": f\"{response} are the topics which have already been covered (please do not suggest them or their related subtopics). Suggest 2 more topics to teach the given material in json format giving a proper explanation on what the lesson should teach. The json format should be like this: [{{'topic': 'topic name', 'explanation': 'explanation of the topic'/}}]. Please only respond with the new topics and their explanations in json, not the old ones.\"},\n",
    "            ],\n",
    "            )\n",
    "            lesson_topics.append(response)\n",
    "    return lesson_topics"
   ]
  },
  {
   "cell_type": "markdown",
   "metadata": {},
   "source": [
    "I WILL BLOW UPPPPP.\n",
    "text_list[0] works but text_[1] doesnt work. Prolly an issue with the text formatting. \n",
    "Fix that and then you can give it chunks and ask it to create the topics in chunks"
   ]
  },
  {
   "cell_type": "code",
   "execution_count": 49,
   "metadata": {},
   "outputs": [],
   "source": [
    "response = create_lesson_topics(test)"
   ]
  },
  {
   "cell_type": "code",
   "execution_count": 50,
   "metadata": {},
   "outputs": [],
   "source": [
    "# Function to clean and fix the JSON strings\n",
    "def fix_json_string(json_string):\n",
    "    # Removing leading and trailing spaces and newlines\n",
    "    json_string = json_string.strip()\n",
    "    # Adding brackets if they are missing\n",
    "    if not json_string.startswith('['):\n",
    "        json_string = '[' + json_string\n",
    "    if not json_string.endswith(']'):\n",
    "        json_string = json_string + ']'\n",
    "    # Ensure proper comma separation between objects\n",
    "    json_string = json_string.replace('}\\n', '},\\n').replace('},\\n]', '}\\n]')\n",
    "    return json_string"
   ]
  },
  {
   "cell_type": "code",
   "execution_count": 51,
   "metadata": {},
   "outputs": [
    {
     "name": "stdout",
     "output_type": "stream",
     "text": [
      " [\n",
      "  {\n",
      "    \"topic\": \"Calculus Overview\",\n",
      "    \"explanation\": \"This lesson will provide an overview of calculus, including vectorization, linear algebra, and statistics. It will cover the basics of vectorization, linear algebra, and statistics, and how they are used in machine learning. The lesson will also introduce the concept of calculus and its importance in machine learning.\"\n",
      "  },\n",
      "  {\n",
      "    \"topic\": \"Hypothesis Testing\",\n",
      "    \"explanation\": \"This lesson will focus on hypothesis testing, including the definition, process, and meaning of significant level and p-value. It will also provide an example of how to conduct a hypothesis test and interpret the results. The lesson will help students understand how to make inferences about a population based on sample data.\"\n",
      "  }\n",
      "]\n",
      " [\n",
      "  {\n",
      "    \"topic\": \"Vectorization\",\n",
      "    \"explanation\": \"This lesson will cover the process of converting data into a vector format, which is necessary for machine learning algorithms to understand and process the data. It will also cover the different types of vectorization, such as one-hot encoding and binary encoding, and how they are used in different machine learning models.\"\n",
      "  },\n",
      "  {\n",
      "    \"topic\": \"Linear Algebra\",\n",
      "    \"explanation\": \"This lesson will focus on the mathematical concepts of linear algebra, including vectors, matrices, and their properties. It will also cover how these concepts are used in machine learning, such as in the calculation of gradients and the optimization of models.\"\n",
      "  }\n",
      "]\n",
      "\n",
      " [\n",
      "  {\n",
      "    \"topic\": \"Calculus\",\n",
      "    \"explanation\": \"This lesson will cover the basics of calculus, including differentiation and integration. It will also cover how these concepts are used in machine learning, such as in the calculation of gradients and the optimization of models.\"\n",
      "  },\n",
      "  {\n",
      "    \"topic\": \"Statistics\",\n",
      "    \"explanation\": \"This lesson will focus on the statistical concepts used in machine learning, including descriptive statistics, variance, standard deviation, confidence intervals, hypothesis testing, and p-values. It will also cover how these concepts are used in the analysis and interpretation of data in machine learning.\"\n",
      "  }\n",
      "]\n",
      "\n"
     ]
    }
   ],
   "source": [
    "json_strings = [resp.choices[0].message.content.replace(\"User:\", \"\") for resp in response]\n",
    "\n",
    "for i in json_strings:\n",
    "    print(i)"
   ]
  },
  {
   "cell_type": "code",
   "execution_count": 52,
   "metadata": {},
   "outputs": [],
   "source": [
    "\n",
    "all_lessons = []\n",
    "\n",
    "# Iterate through each JSON string, fix the formatting, parse it, and extend the all_lessons list\n",
    "for json_str in json_strings:\n",
    "    try:\n",
    "        fixed_json_str = fix_json_string(json_str)\n",
    "        lessons = json.loads(fixed_json_str)\n",
    "        all_lessons.extend(lessons)\n",
    "    except json.JSONDecodeError as e:\n",
    "        print(f\"Error decoding JSON: {e}\")\n",
    "\n",
    "# Merge the dictionaries into a single dictionary\n",
    "merged_dict = {lesson['topic']: lesson['explanation'] for lesson in all_lessons}\n",
    "\n"
   ]
  },
  {
   "cell_type": "code",
   "execution_count": 53,
   "metadata": {},
   "outputs": [
    {
     "name": "stdout",
     "output_type": "stream",
     "text": [
      "Calculus Overview: This lesson will provide an overview of calculus, including vectorization, linear algebra, and statistics. It will cover the basics of vectorization, linear algebra, and statistics, and how they are used in machine learning. The lesson will also introduce the concept of calculus and its importance in machine learning.\n",
      "Hypothesis Testing: This lesson will focus on hypothesis testing, including the definition, process, and meaning of significant level and p-value. It will also provide an example of how to conduct a hypothesis test and interpret the results. The lesson will help students understand how to make inferences about a population based on sample data.\n",
      "Vectorization: This lesson will cover the process of converting data into a vector format, which is necessary for machine learning algorithms to understand and process the data. It will also cover the different types of vectorization, such as one-hot encoding and binary encoding, and how they are used in different machine learning models.\n",
      "Linear Algebra: This lesson will focus on the mathematical concepts of linear algebra, including vectors, matrices, and their properties. It will also cover how these concepts are used in machine learning, such as in the calculation of gradients and the optimization of models.\n",
      "Calculus: This lesson will cover the basics of calculus, including differentiation and integration. It will also cover how these concepts are used in machine learning, such as in the calculation of gradients and the optimization of models.\n",
      "Statistics: This lesson will focus on the statistical concepts used in machine learning, including descriptive statistics, variance, standard deviation, confidence intervals, hypothesis testing, and p-values. It will also cover how these concepts are used in the analysis and interpretation of data in machine learning.\n"
     ]
    }
   ],
   "source": [
    "Giga = {\n",
    "    \"lesson_topics\": merged_dict,\n",
    "    \"lessons\": {},\n",
    "}\n",
    "\n",
    "\n",
    "for key, value in Giga[\"lesson_topics\"].items():\n",
    "    print(f\"{key}: {value}\")"
   ]
  },
  {
   "cell_type": "markdown",
   "metadata": {},
   "source": [
    "## Lesson Generators"
   ]
  },
  {
   "cell_type": "code",
   "execution_count": 54,
   "metadata": {},
   "outputs": [],
   "source": [
    "def create_lesson(topic, explanation):\n",
    "    response = client.chat.completions.create(\n",
    "        model=\"tiiuae/falcon-180B-chat\",\n",
    "        messages=[\n",
    "            {\"role\": \"system\", \"content\": \"You are a great teacher bot. You create emersive and long lessons for students. They are straight to the point and not addressed to anyone. You are writing long and extensive course material that is easy to understand.\"},\n",
    "            {\"role\": \"user\", \"content\": f\"Write a long, detailed and extensive overview for '{topic}'. It should be structured like a teacher explaining the topic to a class, covering all relevant aspects including fundamental principles, key concepts, detailed explanations, practical applications, and in-depth examples. {explanation}\"},\n",
    "        ],\n",
    "    )\n",
    "    return response"
   ]
  },
  {
   "cell_type": "code",
   "execution_count": 55,
   "metadata": {},
   "outputs": [],
   "source": [
    "def create_lessons(lesson_topics):\n",
    "    lessons = {}\n",
    "    for topic, explanation in lesson_topics.items():\n",
    "        print(f\"Creating lesson for topic: {topic}\")\n",
    "        response = create_lesson(topic, explanation)\n",
    "        print(f\"Lesson created for topic: {topic}\")\n",
    "        lessons[topic] = response.choices[0].message.content\n",
    "    return lessons"
   ]
  },
  {
   "cell_type": "code",
   "execution_count": 56,
   "metadata": {},
   "outputs": [
    {
     "name": "stdout",
     "output_type": "stream",
     "text": [
      "Creating lesson for topic: Calculus Overview\n",
      "Lesson created for topic: Calculus Overview\n",
      "Creating lesson for topic: Hypothesis Testing\n",
      "Lesson created for topic: Hypothesis Testing\n",
      "Creating lesson for topic: Vectorization\n",
      "Lesson created for topic: Vectorization\n",
      "Creating lesson for topic: Linear Algebra\n",
      "Lesson created for topic: Linear Algebra\n",
      "Creating lesson for topic: Calculus\n",
      "Lesson created for topic: Calculus\n",
      "Creating lesson for topic: Statistics\n",
      "Lesson created for topic: Statistics\n"
     ]
    }
   ],
   "source": [
    "BRUH = create_lessons(Giga[\"lesson_topics\"])"
   ]
  },
  {
   "cell_type": "code",
   "execution_count": 59,
   "metadata": {},
   "outputs": [
    {
     "name": "stdout",
     "output_type": "stream",
     "text": [
      "dict_keys(['Calculus Overview', 'Hypothesis Testing', 'Vectorization', 'Linear Algebra', 'Calculus', 'Statistics'])\n"
     ]
    }
   ],
   "source": [
    "print(BRUH.keys())"
   ]
  },
  {
   "cell_type": "code",
   "execution_count": 105,
   "metadata": {},
   "outputs": [],
   "source": [
    "Giga[\"lessons\"] = BRUH"
   ]
  },
  {
   "cell_type": "code",
   "execution_count": 108,
   "metadata": {},
   "outputs": [
    {
     "name": "stdout",
     "output_type": "stream",
     "text": [
      "dict_keys(['Calculus Overview', 'Hypothesis Testing', 'Vectorization', 'Linear Algebra', 'Calculus', 'Statistics'])\n"
     ]
    }
   ],
   "source": [
    "print(Giga[\"lesson_topics\"].keys())"
   ]
  },
  {
   "cell_type": "code",
   "execution_count": 61,
   "metadata": {},
   "outputs": [
    {
     "name": "stdout",
     "output_type": "stream",
     "text": [
      " Hypothesis Testing: A Comprehensive Overview\n",
      "\n",
      "Introduction:\n",
      "\n",
      "Hypothesis testing is a statistical method used to make inferences about a population based on sample data. It is a crucial tool in research and decision-making processes, as it allows us to draw conclusions about a population based on a sample. In this lesson, we will explore the fundamental principles of hypothesis testing, key concepts, detailed explanations, practical applications, and in-depth examples.\n",
      "\n",
      "Fundamental Principles:\n",
      "\n",
      "Hypothesis testing is based on the idea that we can make assumptions about a population based on a sample. The process involves testing a hypothesis, which is a statement about a population parameter. The hypothesis is tested using sample data, and the results are used to make inferences about the population.\n",
      "\n",
      "There are two types of hypotheses: the null hypothesis and the alternative hypothesis. The null hypothesis is a statement that assumes there is no difference between the sample and the population. The alternative hypothesis is a statement that assumes there is a difference between the sample and the population.\n",
      "\n",
      "Key Concepts:\n",
      "\n",
      "1. Significance Level: The significance level, also known as alpha, is the probability of rejecting the null hypothesis when it is true. It is usually set at 0.05, which means that there is a 5% chance of rejecting the null hypothesis when it is true.\n",
      "\n",
      "2. P-Value: The p-value is the probability of observing a test statistic as extreme or more extreme than the one observed in the sample, assuming the null hypothesis is true. It is used to determine whether to reject or fail to reject the null hypothesis.\n",
      "\n",
      "3. Test Statistic: The test statistic is a numerical value that is used to determine whether to reject or fail to reject the null hypothesis. It is calculated using the sample data and the null hypothesis.\n",
      "\n",
      "4. Critical Value: The critical value is the value of the test statistic that determines whether to reject or fail to reject the null hypothesis. It is determined by the significance level and the degrees of freedom.\n",
      "\n",
      "Detailed Explanations:\n",
      "\n",
      "The hypothesis testing process involves the following steps:\n",
      "\n",
      "1. State the null and alternative hypotheses.\n",
      "2. Determine the significance level.\n",
      "3. Calculate the test statistic.\n",
      "4. Determine the critical value.\n",
      "5. Compare the test statistic to the critical value.\n",
      "6. Make a decision about the null hypothesis.\n",
      "\n",
      "If the test statistic is greater than or equal to the critical value, the null hypothesis is rejected. If the test statistic is less than the critical value, the null hypothesis is not rejected.\n",
      "\n",
      "Practical Applications:\n",
      "\n",
      "Hypothesis testing is used in a variety of fields, including science, medicine, finance, and marketing. It is used to test the effectiveness of new drugs, the safety of products, the accuracy of financial models, and the effectiveness of marketing campaigns.\n",
      "\n",
      "In-Depth Examples:\n",
      "\n",
      "Let's consider an example of hypothesis testing in the field of medicine. Suppose a new drug is being developed to treat a certain disease. The null hypothesis is that the new drug is no more effective than the current treatment. The alternative hypothesis is that the new drug is more effective than the current treatment.\n",
      "\n",
      "To test the hypothesis, a sample of patients is selected and randomly assigned to either the new drug or the current treatment. The effectiveness of the treatments is measured using a certain metric, such as the number of patients who recover from the disease.\n",
      "\n",
      "The test statistic is calculated using the sample data and the null hypothesis. The critical value is determined using the significance level and the degrees of freedom. If the test statistic is greater than or equal to the critical value, the null hypothesis is rejected, and the new drug is considered more effective than the current treatment. If the test statistic is less than the critical value, the null hypothesis is not rejected, and the new drug is considered no more effective than the current treatment.\n",
      "\n",
      "Conclusion:\n",
      "\n",
      "Hypothesis testing is a powerful statistical method used to make inferences about a population based on sample data. It involves testing a hypothesis, determining the significance level, calculating the test statistic, determining the critical value, comparing the test statistic to the critical value, and making a decision about the null hypothesis. Hypothesis testing is used in a variety of fields and is a crucial tool in research and decision-making processes.\n"
     ]
    }
   ],
   "source": [
    "print(BRUH['Hypothesis Testing'])"
   ]
  },
  {
   "cell_type": "code",
   "execution_count": 68,
   "metadata": {},
   "outputs": [],
   "source": [
    "topics = list(Giga[\"lesson_topics\"].keys())\n",
    "topic = topics[1]\n",
    "explanation = Giga[\"lesson_topics\"][topic]\n",
    "\n",
    "response = create_lesson(topic, explanation)"
   ]
  },
  {
   "cell_type": "code",
   "execution_count": 69,
   "metadata": {},
   "outputs": [
    {
     "name": "stdout",
     "output_type": "stream",
     "text": [
      "completion_tokens=1189 prompt_tokens=168 total_tokens=1357\n"
     ]
    }
   ],
   "source": [
    "print(response.usage)"
   ]
  },
  {
   "cell_type": "code",
   "execution_count": 70,
   "metadata": {},
   "outputs": [
    {
     "name": "stdout",
     "output_type": "stream",
     "text": [
      " Hypothesis Testing: A Comprehensive Overview\n",
      "\n",
      "Introduction:\n",
      "\n",
      "Hypothesis testing is a statistical method used to make inferences about a population based on sample data. It is a crucial tool in research and decision-making processes, as it allows us to draw conclusions about a population based on a sample. In this lesson, we will explore the fundamental principles of hypothesis testing, key concepts, detailed explanations, practical applications, and in-depth examples.\n",
      "\n",
      "Fundamental Principles:\n",
      "\n",
      "Hypothesis testing is based on the idea that we can make assumptions about a population based on a sample. The process involves testing a hypothesis, which is a statement about a population parameter. The hypothesis is tested using sample data, and the results are used to make inferences about the population.\n",
      "\n",
      "Key Concepts:\n",
      "\n",
      "1. Null Hypothesis (H0): The null hypothesis is a statement that assumes there is no difference between the sample and the population. It is denoted as H0.\n",
      "\n",
      "2. Alternative Hypothesis (H1): The alternative hypothesis is a statement that assumes there is a difference between the sample and the population. It is denoted as H1.\n",
      "\n",
      "3. Test Statistic: The test statistic is a numerical value that is calculated from the sample data. It is used to determine whether the null hypothesis should be rejected or not.\n",
      "\n",
      "4. Significant Level (α): The significant level is the probability of rejecting the null hypothesis when it is true. It is denoted as α.\n",
      "\n",
      "5. P-value: The p-value is the probability of observing a test statistic as extreme or more extreme than the one calculated from the sample data, assuming the null hypothesis is true.\n",
      "\n",
      "Process:\n",
      "\n",
      "The process of hypothesis testing involves the following steps:\n",
      "\n",
      "1. State the null and alternative hypotheses.\n",
      "\n",
      "2. Choose a test statistic and its distribution.\n",
      "\n",
      "3. Calculate the test statistic from the sample data.\n",
      "\n",
      "4. Determine the degrees of freedom.\n",
      "\n",
      "5. Find the critical value(s) and the rejection region(s).\n",
      "\n",
      "6. Compare the test statistic to the critical value(s).\n",
      "\n",
      "7. Make a decision to reject or fail to reject the null hypothesis.\n",
      "\n",
      "8. Calculate the p-value.\n",
      "\n",
      "9. Interpret the results.\n",
      "\n",
      "Meaning of Significant Level and P-value:\n",
      "\n",
      "The significant level (α) is the probability of rejecting the null hypothesis when it is true. It is usually set at 0.05 or 0.01, which means that there is a 5% or 1% chance of rejecting the null hypothesis when it is true.\n",
      "\n",
      "The p-value is the probability of observing a test statistic as extreme or more extreme than the one calculated from the sample data, assuming the null hypothesis is true. It is used to determine whether the null hypothesis should be rejected or not. If the p-value is less than the significant level, the null hypothesis is rejected. If the p-value is greater than the significant level, the null hypothesis is not rejected.\n",
      "\n",
      "Example:\n",
      "\n",
      "Suppose we want to test the hypothesis that the mean height of all men is 70 inches. We take a random sample of 50 men and find that the mean height is 72 inches with a standard deviation of 4 inches. We want to test the hypothesis at a 5% level of significance.\n",
      "\n",
      "Null Hypothesis (H0): The mean height of all men is 70 inches.\n",
      "\n",
      "Alternative Hypothesis (H1): The mean height of all men is not 70 inches.\n",
      "\n",
      "Test Statistic: z = (72 - 70) / (4 / sqrt(50)) = 2.8284\n",
      "\n",
      "Degrees of Freedom: df = n - 1 = 49\n",
      "\n",
      "Critical Value(s): For a two-tailed test at a 5% level of significance, the critical value(s) are ±1.96.\n",
      "\n",
      "Rejection Region(s): The rejection region(s) are z > 1.96 or z < -1.96.\n",
      "\n",
      "Since the test statistic (z = 2.8284) is greater than the critical value (1.96), we reject the null hypothesis. The p-value is calculated as follows:\n",
      "\n",
      "P-value = 2 * (1 - CDF(z, df))\n",
      "\n",
      "P-value = 2 * (1 - 0.9772) = 0.0228\n",
      "\n",
      "Since the p-value (0.0228) is less than the significant level (0.05), we reject the null hypothesis.\n",
      "\n",
      "Interpretation:\n",
      "\n",
      "Based on the sample data, we can conclude that the mean height of all men is not 70 inches at a 5% level of significance.\n",
      "\n",
      "Conclusion:\n",
      "\n",
      "Hypothesis testing is a powerful statistical method that allows us to make inferences about a population based on sample data. It involves testing a hypothesis, choosing a test statistic and its distribution, calculating the test statistic from the sample data, determining the degrees of freedom, finding the critical value(s) and the rejection region(s), comparing the test statistic to the critical value(s), making a decision to reject or fail to reject the null hypothesis, calculating the p-value, and interpreting the results. By understanding the fundamental principles, key concepts, detailed explanations, practical applications, and in-depth examples of hypothesis testing, students can make informed decisions based on sample data.\n"
     ]
    }
   ],
   "source": [
    "lesson = response.choices[0].message.content\n",
    "print(lesson)"
   ]
  },
  {
   "cell_type": "markdown",
   "metadata": {},
   "source": [
    "## Generate Quiz"
   ]
  },
  {
   "cell_type": "code",
   "execution_count": 212,
   "metadata": {},
   "outputs": [],
   "source": [
    "def generate_quiz(topic, lesson):\n",
    "    response = client.chat.completions.create(\n",
    "        model=\"tiiuae/falcon-180B-chat\",\n",
    "        messages=[\n",
    "            {\"role\": \"system\", \"content\": \"You are a quiz bot. You create quizzes for students to test their knowledge on a specific lesson. You strictly follow the format provided and include the headers for the start of the two sections 'Multiple Choice Questions:' and 'True/False Questions:'.\"},\n",
    "            {\"role\": \"user\", \"content\": \n",
    "f\"\"\"Create a quiz for the topic '{topic}' and lesson: {lesson[0:3000]}. \n",
    "The questions should be designed to test the student's understanding of the lesson. The quiz should be engaging and informative. Format the quiz as follows (Strickly follow the format):\n",
    "Multiple Choice Questions:\n",
    "1. [Question 1]\n",
    "   A) [Option A]\n",
    "   B) [Option B]\n",
    "   C) [Option C]\n",
    "   D) [Option D]\n",
    "\n",
    "Answer: [Correct option letter]\n",
    "\n",
    "2. [Question 2]\n",
    "   A) [Option A]\n",
    "   B) [Option B]\n",
    "   C) [Option C]\n",
    "   D) [Option D]\n",
    "\n",
    "Answer: [Correct option letter]\n",
    "\n",
    "3. [Question 3]\n",
    "   A) [Option A]\n",
    "   B) [Option B]\n",
    "   C) [Option C]\n",
    "   D) [Option D]\n",
    "\n",
    "Answer: [Correct option letter]\n",
    "\n",
    "4. [Question 4]\n",
    "   A) [Option A]\n",
    "   B) [Option B]\n",
    "   C) [Option C]\n",
    "   D) [Option D]\n",
    "\n",
    "Answer: [Correct option letter]\n",
    "\n",
    "5. [Question 5]\n",
    "   A) [Option A]\n",
    "   B) [Option B]\n",
    "   C) [Option C]\n",
    "   D) [Option D]\n",
    "\n",
    "Answer: [Correct option letter]\n",
    "\n",
    "True/False Questions:\n",
    "6. [True/False statement]\n",
    "\n",
    "Answer: [True/False correct answer]\n",
    "\n",
    "7. [True/False statement]\n",
    "\n",
    "Answer: [True/False correct answer]\n",
    "\n",
    "8. [True/False statement]\n",
    "\n",
    "Answer: [True/False correct answer]\n",
    "\n",
    "9. [True/False statement]\n",
    "\n",
    "Answer: [True/False correct answer]\n",
    "\n",
    "10. [True/False statement]\n",
    "\n",
    "Answer: [True/False correct answer]\n",
    "\"\"\"}\n",
    "        ],\n",
    "    )\n",
    "    return response"
   ]
  },
  {
   "cell_type": "code",
   "execution_count": 213,
   "metadata": {},
   "outputs": [],
   "source": [
    "import time\n",
    "def generate_quizzes(lessons):\n",
    "    quizzes = {}\n",
    "    for topic, lesson in lessons.items():\n",
    "        response = generate_quiz(topic, lesson)\n",
    "        quizzes[topic] = response.choices[0].message.content\n",
    "        # time.sleep(5)\n",
    "    return quizzes"
   ]
  },
  {
   "cell_type": "code",
   "execution_count": 214,
   "metadata": {},
   "outputs": [],
   "source": [
    "QUIZ = generate_quizzes(BRUH)"
   ]
  },
  {
   "cell_type": "code",
   "execution_count": 215,
   "metadata": {},
   "outputs": [
    {
     "name": "stdout",
     "output_type": "stream",
     "text": [
      " Multiple Choice Questions:\n",
      "1. What is calculus?\n",
      "   A) A branch of mathematics that deals with the study of change and how things change over time\n",
      "   B) A branch of mathematics that deals with the study of linear equations and their properties\n",
      "   C) A branch of mathematics that deals with the study of data and its analysis\n",
      "   D) A branch of mathematics that deals with the study of optimization algorithms\n",
      "\n",
      "Answer: A\n",
      "\n",
      "2. What is vectorization?\n",
      "   A) The process of converting data into a vector format\n",
      "   B) The process of converting data into a matrix format\n",
      "   C) The process of converting data into a scalar format\n",
      "   D) The process of converting data into a tensor format\n",
      "\n",
      "Answer: A\n",
      "\n",
      "3. What is linear algebra?\n",
      "   A) A branch of mathematics that deals with the study of linear equations and their properties\n",
      "   B) A branch of mathematics that deals with the study of change and how things change over time\n",
      "   C) A branch of mathematics that deals with the study of data and its analysis\n",
      "   D) A branch of mathematics that deals with the study of optimization algorithms\n",
      "\n",
      "Answer: A\n",
      "\n",
      "4. What is statistics?\n",
      "   A) The study of data and its analysis\n",
      "   B) The study of change and how things change over time\n",
      "   C) The study of linear equations and their properties\n",
      "   D) The study of optimization algorithms\n",
      "\n",
      "Answer: A\n",
      "\n",
      "5. What is gradient descent?\n",
      "   A) An optimization algorithm used to find the minimum value of a function\n",
      "   B) A technique used in neural networks to adjust the weights of the network to minimize the error\n",
      "   C) A process of converting data into a vector format\n",
      "   D) A process of converting data into a matrix format\n",
      "\n",
      "Answer: A\n",
      "\n",
      "True/False Questions:\n",
      "6. Calculus is an essential tool in machine learning.\n",
      "   Answer: True\n",
      "\n",
      "7. Vectorization is the process of converting data into a vector format.\n",
      "   Answer: True\n",
      "\n",
      "8. Linear algebra is a branch of mathematics that deals with the study of linear equations and their properties.\n",
      "   Answer: True\n",
      "\n",
      "9. Statistics is the study of data and its analysis.\n",
      "   Answer: True\n",
      "\n",
      "10. Gradient descent is an optimization algorithm used to find the minimum value of a function.\n",
      "   Answer: True\n",
      "\n",
      "\n",
      "\n",
      "\n",
      "\n",
      "\n",
      " Multiple Choice Questions:\n",
      "\n",
      "1. What is hypothesis testing?\n",
      "   A) A statistical method used to make inferences about a population based on sample data\n",
      "   B) A method used to test the effectiveness of new drugs\n",
      "   C) A method used to test the safety of products\n",
      "   D) A method used to test the accuracy of financial models\n",
      "\n",
      "Answer: A) A statistical method used to make inferences about a population based on sample data\n",
      "\n",
      "2. What is the null hypothesis?\n",
      "   A) A statement that assumes there is a difference between the sample and the population\n",
      "   B) A statement that assumes there is no difference between the sample and the population\n",
      "   C) A statement that assumes the sample is representative of the population\n",
      "   D) A statement that assumes the population is representative of the sample\n",
      "\n",
      "Answer: B) A statement that assumes there is no difference between the sample and the population\n",
      "\n",
      "3. What is the alternative hypothesis?\n",
      "   A) A statement that assumes there is a difference between the sample and the population\n",
      "   B) A statement that assumes there is no difference between the sample and the population\n",
      "   C) A statement that assumes the sample is representative of the population\n",
      "   D) A statement that assumes the population is representative of the sample\n",
      "\n",
      "Answer: A) A statement that assumes there is a difference between the sample and the population\n",
      "\n",
      "4. What is the significance level?\n",
      "   A) The probability of observing a test statistic as extreme or more extreme than the one observed in the sample, assuming the null hypothesis is true\n",
      "   B) The probability of rejecting the null hypothesis when it is true\n",
      "   C) The probability of failing to reject the null hypothesis when it is false\n",
      "   D) The probability of rejecting the null hypothesis when it is false\n",
      "\n",
      "Answer: B) The probability of rejecting the null hypothesis when it is true\n",
      "\n",
      "5. What is the p-value?\n",
      "   A) The probability of observing a test statistic as extreme or more extreme than the one observed in the sample, assuming the null hypothesis is true\n",
      "   B) The probability of rejecting the null hypothesis when it is true\n",
      "   C) The probability of failing to reject the null hypothesis when it is false\n",
      "   D) The probability of rejecting the null hypothesis when it is false\n",
      "\n",
      "Answer: A) The probability of observing a test statistic as extreme or more extreme than the one observed in the sample, assuming the null hypothesis is true\n",
      "\n",
      "True/False Questions:\n",
      "\n",
      "6. Hypothesis testing is a statistical method used to make inferences about a population based on sample data.\n",
      "   Answer: True\n",
      "\n",
      "7. The null hypothesis assumes there is a difference between the sample and the population.\n",
      "   Answer: False\n",
      "\n",
      "8. The alternative hypothesis assumes there is no difference between the sample and the population.\n",
      "   Answer: False\n",
      "\n",
      "9. The significance level is the probability of rejecting the null hypothesis when it is true.\n",
      "   Answer: True\n",
      "\n",
      "10. The p-value is the probability of observing a test statistic as extreme or more extreme than the one observed in the sample, assuming the null hypothesis is true.\n",
      "   Answer: True\n",
      "\n",
      "\n",
      "\n",
      "\n",
      "\n",
      "\n",
      " Multiple Choice Questions:\n",
      "1. What is vectorization?\n",
      "   A) The process of converting data into a vector format\n",
      "   B) The process of converting data into a binary format\n",
      "   C) The process of converting data into a categorical format\n",
      "   D) The process of converting data into a numerical format\n",
      "\n",
      "Answer: A) The process of converting data into a vector format\n",
      "\n",
      "2. What is one-hot encoding?\n",
      "   A) A process of converting categorical data into a binary format\n",
      "   B) A process of converting numerical data into a binary format\n",
      "   C) A process of converting categorical data into a vector format\n",
      "   D) A process of converting numerical data into a vector format\n",
      "\n",
      "Answer: A) A process of converting categorical data into a binary format\n",
      "\n",
      "3. What is binary encoding?\n",
      "   A) A process of converting categorical data into a binary format\n",
      "   B) A process of converting numerical data into a binary format\n",
      "   C) A process of converting categorical data into a vector format\n",
      "   D) A process of converting numerical data into a vector format\n",
      "\n",
      "Answer: B) A process of converting numerical data into a binary format\n",
      "\n",
      "4. What is the purpose of vectorization in machine learning?\n",
      "   A) To convert data into a binary format\n",
      "   B) To convert data into a categorical format\n",
      "   C) To convert data into a vector format\n",
      "   D) To convert data into a numerical format\n",
      "\n",
      "Answer: C) To convert data into a vector format\n",
      "\n",
      "5. What is an example of a machine learning model that uses vectorization?\n",
      "   A) Linear regression\n",
      "   B) Logistic regression\n",
      "   C) Neural networks\n",
      "   D) All of the above\n",
      "\n",
      "Answer: D) All of the above\n",
      "\n",
      "True/False Questions:\n",
      "6. Vectorization is the process of converting data into a binary format.\n",
      "   True/False: False\n",
      "\n",
      "7. One-hot encoding is a process of converting categorical data into a binary format.\n",
      "   True/False: True\n",
      "\n",
      "8. Binary encoding is a process of converting numerical data into a binary format.\n",
      "   True/False: True\n",
      "\n",
      "9. Vectorization is only used in linear regression models.\n",
      "   True/False: False\n",
      "\n",
      "10. Vectorization is a crucial process in machine learning.\n",
      "   True/False: True\n",
      "\n",
      "\n",
      "\n",
      "\n",
      "\n",
      "\n",
      " Multiple Choice Questions:\n",
      "1. What is Linear Algebra?\n",
      "   A) A branch of mathematics that deals with the study of linear equations and their properties.\n",
      "   B) A branch of mathematics that deals with the study of non-linear equations and their properties.\n",
      "   C) A branch of mathematics that deals with the study of matrices and their properties.\n",
      "   D) A branch of mathematics that deals with the study of vectors and their properties.\n",
      "\n",
      "Answer: A) A branch of mathematics that deals with the study of linear equations and their properties.\n",
      "\n",
      "2. What is a vector?\n",
      "   A) A mathematical object that has both magnitude and direction.\n",
      "   B) A mathematical object that has only magnitude.\n",
      "   C) A mathematical object that has only direction.\n",
      "   D) A mathematical object that has neither magnitude nor direction.\n",
      "\n",
      "Answer: A) A mathematical object that has both magnitude and direction.\n",
      "\n",
      "3. What is a matrix?\n",
      "   A) A rectangular array of numbers that is used to represent linear transformations between vectors.\n",
      "   B) A rectangular array of numbers that is used to represent non-linear transformations between vectors.\n",
      "   C) A rectangular array of numbers that is used to represent linear equations.\n",
      "   D) A rectangular array of numbers that is used to represent non-linear equations.\n",
      "\n",
      "Answer: A) A rectangular array of numbers that is used to represent linear transformations between vectors.\n",
      "\n",
      "4. What is matrix multiplication?\n",
      "   A) A binary operation that takes two matrices as input and produces a third matrix as output.\n",
      "   B) A binary operation that takes two vectors as input and produces a third vector as output.\n",
      "   C) A binary operation that takes two matrices as input and produces a vector as output.\n",
      "   D) A binary operation that takes two vectors as input and produces a matrix as output.\n",
      "\n",
      "Answer: A) A binary operation that takes two matrices as input and produces a third matrix as output.\n",
      "\n",
      "5. What is a linear transformation?\n",
      "   A) A function that maps vectors from one space to another while preserving the linear structure of the space.\n",
      "   B) A function that maps vectors from one space to another while preserving the non-linear structure of the space.\n",
      "   C) A function that maps vectors from one space to another while preserving the magnitude of the vectors.\n",
      "   D) A function that maps vectors from one space to another while preserving the direction of the vectors.\n",
      "\n",
      "Answer: A) A function that maps vectors from one space to another while preserving the linear structure of the space.\n",
      "\n",
      "True/False Questions:\n",
      "6. Linear algebra is concerned with the study of linear equations.\n",
      "   Answer: True\n",
      "\n",
      "7. A vector is a mathematical object that has both magnitude and direction.\n",
      "   Answer: True\n",
      "\n",
      "8. A matrix is a rectangular array of numbers that is used to represent linear transformations between vectors.\n",
      "   Answer: True\n",
      "\n",
      "9. Matrix multiplication is a binary operation that takes two matrices as input and produces a third matrix as output.\n",
      "   Answer: True\n",
      "\n",
      "10. Linear transformations are used extensively in machine learning to transform data into a form that is suitable for analysis.\n",
      "   Answer: True\n",
      "\n",
      "\n",
      "\n",
      "\n",
      "\n",
      "\n",
      " Multiple Choice Questions:\n",
      "1. What is calculus?\n",
      "   A) A branch of mathematics that deals with the study of change and how things vary over time\n",
      "   B) A branch of mathematics that deals with the study of shapes and sizes\n",
      "   C) A branch of mathematics that deals with the study of patterns and sequences\n",
      "   D) A branch of mathematics that deals with the study of probability and statistics\n",
      "\n",
      "Answer: A\n",
      "\n",
      "2. What is differentiation?\n",
      "   A) The process of finding the rate of change of a function\n",
      "   B) The process of finding the area under a curve\n",
      "   C) The process of finding the original function from its derivative\n",
      "   D) The process of finding the slope of a curve at any given point\n",
      "\n",
      "Answer: A\n",
      "\n",
      "3. What is integration?\n",
      "   A) The process of finding the rate of change of a function\n",
      "   B) The process of finding the area under a curve\n",
      "   C) The process of finding the original function from its derivative\n",
      "   D) The process of finding the slope of a curve at any given point\n",
      "\n",
      "Answer: B\n",
      "\n",
      "4. What is the power rule for differentiation?\n",
      "   A) If f(x) = x^n, then the derivative of f(x) is f'(x) = nx^(n-1)\n",
      "   B) If f(x) = x^n, then the derivative of f(x) is f'(x) = nx^(n+1)\n",
      "   C) If f(x) = x^n, then the derivative of f(x) is f'(x) = nx^n\n",
      "   D) If f(x) = x^n, then the derivative of f(x) is f'(x) = nx^(n-2)\n",
      "\n",
      "Answer: A\n",
      "\n",
      "5. What is the power rule for integration?\n",
      "   A) If f(x) = x^n, then the integral of f(x) is F(x) = (1/(n+1))x^(n+1) + C, where C is the constant of integration\n",
      "   B) If f(x) = x^n, then the integral of f(x) is F(x) = (1/(n-1))x^(n-1) + C, where C is the constant of integration\n",
      "   C) If f(x) = x^n, then the integral of f(x) is F(x) = (1/n)x^n + C, where C is the constant of integration\n",
      "   D) If f(x) = x^n, then the integral of f(x) is F(x) = (1/(n-2))x^(n-2) + C, where C is the constant of integration\n",
      "\n",
      "Answer: A\n",
      "\n",
      "True/False Questions:\n",
      "6. Calculus is a branch of mathematics that deals with the study of change and how things vary over time.\n",
      "   Answer: True\n",
      "\n",
      "7. Differentiation is the process of finding the rate of change of a function.\n",
      "   Answer: True\n",
      "\n",
      "8. Integration is the process of finding the area under a curve.\n",
      "   Answer: True\n",
      "\n",
      "9. Calculus is used extensively in machine learning to calculate gradients and optimize models.\n",
      "   Answer: True\n",
      "\n",
      "10. Understanding calculus is essential for anyone who wants to work in machine learning or any other field that deals with the study of change.\n",
      "   Answer: True\n",
      "\n",
      "\n",
      "\n",
      "\n",
      "\n",
      "\n",
      " Multiple Choice Questions:\n",
      "1. What is the definition of statistics?\n",
      "   A) The study of data\n",
      "   B) The study of mathematics\n",
      "   C) The study of science\n",
      "   D) The study of history\n",
      "\n",
      "Answer: A) The study of data\n",
      "\n",
      "2. What is the most common measure of central tendency?\n",
      "   A) Mean\n",
      "   B) Median\n",
      "   C) Mode\n",
      "   D) Range\n",
      "\n",
      "Answer: A) Mean\n",
      "\n",
      "3. What is the difference between variance and standard deviation?\n",
      "   A) Variance measures the spread of data, while standard deviation measures the average of data\n",
      "   B) Variance measures the average of data, while standard deviation measures the spread of data\n",
      "   C) Variance and standard deviation are the same thing\n",
      "   D) Variance and standard deviation are not related\n",
      "\n",
      "Answer: B) Variance measures the average of data, while standard deviation measures the spread of data\n",
      "\n",
      "4. What is a confidence interval?\n",
      "   A) A range of values that are likely to contain the true value of a population parameter\n",
      "   B) A range of values that are unlikely to contain the true value of a population parameter\n",
      "   C) A range of values that are impossible to contain the true value of a population parameter\n",
      "   D) A range of values that are always equal to the true value of a population parameter\n",
      "\n",
      "Answer: A) A range of values that are likely to contain the true value of a population parameter\n",
      "\n",
      "5. What is hypothesis testing?\n",
      "   A) A statistical method used to determine whether a hypothesis about a population parameter is true or false\n",
      "   B) A statistical method used to determine whether a hypothesis about a sample parameter is true or false\n",
      "   C) A statistical method used to determine whether a hypothesis about a population parameter is always true\n",
      "   D) A statistical method used to determine whether a hypothesis about a sample parameter is always false\n",
      "\n",
      "Answer: A) A statistical method used to determine whether a hypothesis about a population parameter is true or false\n",
      "\n",
      "True/False Questions:\n",
      "6. Statistics is a branch of mathematics that deals with the collection, analysis, interpretation, and presentation of data.\n",
      "   Answer: True\n",
      "\n",
      "7. Descriptive statistics help us to understand the central tendency, variability, and shape of a dataset.\n",
      "   Answer: True\n",
      "\n",
      "8. Variance and standard deviation are measures of central tendency.\n",
      "   Answer: False\n",
      "\n",
      "9. A confidence interval is a range of values that are likely to contain the true value of a population parameter.\n",
      "   Answer: True\n",
      "\n",
      "10. Hypothesis testing is a statistical method used to determine whether a hypothesis about a population parameter is true or false.\n",
      "   Answer: True\n",
      "\n",
      "\n",
      "\n",
      "\n",
      "\n",
      "\n"
     ]
    }
   ],
   "source": [
    "for key, value in QUIZ.items():\n",
    "    print(f\"{value}\")\n",
    "    print(\"\\n\\n\\n\\n\\n\")"
   ]
  },
  {
   "cell_type": "code",
   "execution_count": 216,
   "metadata": {},
   "outputs": [
    {
     "name": "stdout",
     "output_type": "stream",
     "text": [
      "dict_keys(['Calculus Overview', 'Hypothesis Testing', 'Vectorization', 'Linear Algebra', 'Calculus', 'Statistics'])\n"
     ]
    }
   ],
   "source": [
    "print(QUIZ.keys())"
   ]
  },
  {
   "cell_type": "code",
   "execution_count": 217,
   "metadata": {},
   "outputs": [],
   "source": [
    "response = generate_quiz(\"Hypothesis Testing\", BRUH[\"Hypothesis Testing\"][0:3000])"
   ]
  },
  {
   "cell_type": "code",
   "execution_count": 218,
   "metadata": {},
   "outputs": [
    {
     "name": "stdout",
     "output_type": "stream",
     "text": [
      "4495\n",
      "completion_tokens=637 prompt_tokens=1130 total_tokens=1767\n"
     ]
    }
   ],
   "source": [
    "print(len(BRUH[\"Hypothesis Testing\"]))\n",
    "print(response.usage)"
   ]
  },
  {
   "cell_type": "code",
   "execution_count": 219,
   "metadata": {},
   "outputs": [],
   "source": [
    "questions_output = response.choices[0].message.content.replace(\"User:\", \"\")"
   ]
  },
  {
   "cell_type": "code",
   "execution_count": 226,
   "metadata": {},
   "outputs": [
    {
     "name": "stdout",
     "output_type": "stream",
     "text": [
      "[' Multiple Choice Questions:\\n\\n1. What is hypothesis testing?\\n   A) A statistical method used to make inferences about a population based on sample data\\n   B) A method used to test the effectiveness of new drugs\\n   C) A method used to test the safety of products\\n   D) A method used to test the accuracy of financial models\\n\\nAnswer: A) A statistical method used to make inferences about a population based on sample data\\n\\n2. What is the null hypothesis?\\n   A) A statement that assumes there is a difference between the sample and the population\\n   B) A statement that assumes there is no difference between the sample and the population\\n   C) A statement that assumes the sample is representative of the population\\n   D) A statement that assumes the population is representative of the sample\\n\\nAnswer: B) A statement that assumes there is no difference between the sample and the population\\n\\n3. What is the alternative hypothesis?\\n   A) A statement that assumes there is a difference between the sample and the population\\n   B) A statement that assumes there is no difference between the sample and the population\\n   C) A statement that assumes the sample is representative of the population\\n   D) A statement that assumes the population is representative of the sample\\n\\nAnswer: A) A statement that assumes there is a difference between the sample and the population\\n\\n4. What is the significance level?\\n   A) The probability of observing a test statistic as extreme or more extreme than the one observed in the sample, assuming the null hypothesis is true\\n   B) The probability of rejecting the null hypothesis when it is true\\n   C) The probability of failing to reject the null hypothesis when it is false\\n   D) The probability of rejecting the null hypothesis when it is false\\n\\nAnswer: B) The probability of rejecting the null hypothesis when it is true\\n\\n5. What is the p-value?\\n   A) The probability of observing a test statistic as extreme or more extreme than the one observed in the sample, assuming the null hypothesis is true\\n   B) The probability of rejecting the null hypothesis when it is true\\n   C) The probability of failing to reject the null hypothesis when it is false\\n   D) The probability of rejecting the null hypothesis when it is false\\n\\nAnswer: A) The probability of observing a test statistic as extreme or more extreme than the one observed in the sample, assuming the null hypothesis is true\\n\\nTrue/False Questions:\\n\\n6. Hypothesis testing is a statistical method used to make inferences about a population based on sample data.\\n   Answer: True\\n\\n7. The null hypothesis assumes there is a difference between the sample and the population.\\n   Answer: False\\n\\n8. The alternative hypothesis assumes there is no difference between the sample and the population.\\n   Answer: False\\n\\n9. The significance level is the probability of rejecting the null hypothesis when it is true.\\n   Answer: True\\n\\n10. The p-value is the probability of observing a test statistic as extreme or more extreme than the one observed in the sample, assuming the null hypothesis is true.\\n   Answer: True']\n"
     ]
    }
   ],
   "source": [
    "print([questions_output])"
   ]
  },
  {
   "cell_type": "code",
   "execution_count": 237,
   "metadata": {},
   "outputs": [],
   "source": [
    "def convert_to_json(input_string):\n",
    "    lines = input_string.strip().split('\\n')\n",
    "    result = {\n",
    "        \"Multiple Choice Questions\": [],\n",
    "        \"True/False Questions\": []\n",
    "    }\n",
    "    \n",
    "    current_section = None\n",
    "    question = None\n",
    "    for line in lines:\n",
    "        line = line.strip()\n",
    "        if line.startswith('Multiple Choice Questions:'):\n",
    "            current_section = \"Multiple Choice Questions\"\n",
    "        elif line.startswith('True/False Questions:'):\n",
    "            if question:\n",
    "                result[current_section].append(question)\n",
    "                question = None\n",
    "            current_section = \"True/False Questions\"\n",
    "        elif line and line[0].isdigit() and line[1] == '.':\n",
    "            if question:\n",
    "                result[current_section].append(question)\n",
    "            question = {\"Question\": line}\n",
    "        elif line.startswith('A)') or line.startswith('B)') or line.startswith('C)') or line.startswith('D)'):\n",
    "            if 'Options' not in question:\n",
    "                question['Options'] = []\n",
    "            question['Options'].append(line)\n",
    "        elif line.startswith('Answer:'):\n",
    "            if current_section == \"Multiple Choice Questions\":\n",
    "                question['Answer'] = line.split('Answer: ')[1]\n",
    "            else:\n",
    "                question['Answer'] = line.split('Answer: ')[1] == 'True'\n",
    "        else:\n",
    "            if question is not None:\n",
    "                if 'Question' in question:\n",
    "                    question['Question'] += ' ' + line\n",
    "                else:\n",
    "                    question['Question'] = line\n",
    "    \n",
    "    if question:\n",
    "        result[current_section].append(question)\n",
    "    \n",
    "    return result"
   ]
  },
  {
   "cell_type": "code",
   "execution_count": 239,
   "metadata": {},
   "outputs": [
    {
     "name": "stdout",
     "output_type": "stream",
     "text": [
      "{'Multiple Choice Questions': [{'Question': '1. What is hypothesis testing?  ', 'Options': ['A) A statistical method used to make inferences about a population based on sample data', 'B) A method used to test the effectiveness of new drugs', 'C) A method used to test the safety of products', 'D) A method used to test the accuracy of financial models'], 'Answer': 'A) A statistical method used to make inferences about a population based on sample data'}, {'Question': '2. What is the null hypothesis?  ', 'Options': ['A) A statement that assumes there is a difference between the sample and the population', 'B) A statement that assumes there is no difference between the sample and the population', 'C) A statement that assumes the sample is representative of the population', 'D) A statement that assumes the population is representative of the sample'], 'Answer': 'B) A statement that assumes there is no difference between the sample and the population'}, {'Question': '3. What is the alternative hypothesis?  ', 'Options': ['A) A statement that assumes there is a difference between the sample and the population', 'B) A statement that assumes there is no difference between the sample and the population', 'C) A statement that assumes the sample is representative of the population', 'D) A statement that assumes the population is representative of the sample'], 'Answer': 'A) A statement that assumes there is a difference between the sample and the population'}, {'Question': '4. What is the significance level?  ', 'Options': ['A) The probability of observing a test statistic as extreme or more extreme than the one observed in the sample, assuming the null hypothesis is true', 'B) The probability of rejecting the null hypothesis when it is true', 'C) The probability of failing to reject the null hypothesis when it is false', 'D) The probability of rejecting the null hypothesis when it is false'], 'Answer': 'B) The probability of rejecting the null hypothesis when it is true'}, {'Question': '5. What is the p-value?  ', 'Options': ['A) The probability of observing a test statistic as extreme or more extreme than the one observed in the sample, assuming the null hypothesis is true', 'B) The probability of rejecting the null hypothesis when it is true', 'C) The probability of failing to reject the null hypothesis when it is false', 'D) The probability of rejecting the null hypothesis when it is false'], 'Answer': 'A) The probability of observing a test statistic as extreme or more extreme than the one observed in the sample, assuming the null hypothesis is true'}], 'True/False Questions': [{'Question': '6. Hypothesis testing is a statistical method used to make inferences about a population based on sample data. ', 'Answer': True}, {'Question': '7. The null hypothesis assumes there is a difference between the sample and the population. ', 'Answer': False}, {'Question': '8. The alternative hypothesis assumes there is no difference between the sample and the population. ', 'Answer': False}, {'Question': '9. The significance level is the probability of rejecting the null hypothesis when it is true.  10. The p-value is the probability of observing a test statistic as extreme or more extreme than the one observed in the sample, assuming the null hypothesis is true.', 'Answer': True}]}\n"
     ]
    }
   ],
   "source": [
    "print(convert_to_json(questions_output))"
   ]
  },
  {
   "cell_type": "code",
   "execution_count": 241,
   "metadata": {},
   "outputs": [],
   "source": [
    "Quizes = {}"
   ]
  },
  {
   "cell_type": "code",
   "execution_count": 242,
   "metadata": {},
   "outputs": [],
   "source": [
    "for key, value in QUIZ.items():\n",
    "    Quizes[key] = convert_to_json(value)"
   ]
  },
  {
   "cell_type": "code",
   "execution_count": 245,
   "metadata": {},
   "outputs": [
    {
     "name": "stdout",
     "output_type": "stream",
     "text": [
      "{'Multiple Choice Questions': [{'Question': '1. What is hypothesis testing?  ', 'Options': ['A) A statistical method used to make inferences about a population based on sample data', 'B) A method used to test the effectiveness of new drugs', 'C) A method used to test the safety of products', 'D) A method used to test the accuracy of financial models'], 'Answer': 'A) A statistical method used to make inferences about a population based on sample data'}, {'Question': '2. What is the null hypothesis?  ', 'Options': ['A) A statement that assumes there is a difference between the sample and the population', 'B) A statement that assumes there is no difference between the sample and the population', 'C) A statement that assumes the sample is representative of the population', 'D) A statement that assumes the population is representative of the sample'], 'Answer': 'B) A statement that assumes there is no difference between the sample and the population'}, {'Question': '3. What is the alternative hypothesis?  ', 'Options': ['A) A statement that assumes there is a difference between the sample and the population', 'B) A statement that assumes there is no difference between the sample and the population', 'C) A statement that assumes the sample is representative of the population', 'D) A statement that assumes the population is representative of the sample'], 'Answer': 'A) A statement that assumes there is a difference between the sample and the population'}, {'Question': '4. What is the significance level?  ', 'Options': ['A) The probability of observing a test statistic as extreme or more extreme than the one observed in the sample, assuming the null hypothesis is true', 'B) The probability of rejecting the null hypothesis when it is true', 'C) The probability of failing to reject the null hypothesis when it is false', 'D) The probability of rejecting the null hypothesis when it is false'], 'Answer': 'B) The probability of rejecting the null hypothesis when it is true'}, {'Question': '5. What is the p-value?  ', 'Options': ['A) The probability of observing a test statistic as extreme or more extreme than the one observed in the sample, assuming the null hypothesis is true', 'B) The probability of rejecting the null hypothesis when it is true', 'C) The probability of failing to reject the null hypothesis when it is false', 'D) The probability of rejecting the null hypothesis when it is false'], 'Answer': 'A) The probability of observing a test statistic as extreme or more extreme than the one observed in the sample, assuming the null hypothesis is true'}], 'True/False Questions': [{'Question': '6. Hypothesis testing is a statistical method used to make inferences about a population based on sample data. ', 'Answer': True}, {'Question': '7. The null hypothesis assumes there is a difference between the sample and the population. ', 'Answer': False}, {'Question': '8. The alternative hypothesis assumes there is no difference between the sample and the population. ', 'Answer': False}, {'Question': '9. The significance level is the probability of rejecting the null hypothesis when it is true.  10. The p-value is the probability of observing a test statistic as extreme or more extreme than the one observed in the sample, assuming the null hypothesis is true.', 'Answer': True}]}\n"
     ]
    }
   ],
   "source": [
    "print(Quizes[\"Hypothesis Testing\"])"
   ]
  },
  {
   "cell_type": "code",
   "execution_count": 246,
   "metadata": {},
   "outputs": [],
   "source": [
    "Giga[\"quizzes\"] = Quizes"
   ]
  },
  {
   "cell_type": "code",
   "execution_count": 248,
   "metadata": {},
   "outputs": [
    {
     "name": "stdout",
     "output_type": "stream",
     "text": [
      "dict_keys(['lesson_topics', 'lessons', 'quizzes'])\n"
     ]
    }
   ],
   "source": [
    "print(Giga.keys())"
   ]
  }
 ],
 "metadata": {
  "kernelspec": {
   "display_name": "Python 3",
   "language": "python",
   "name": "python3"
  },
  "language_info": {
   "codemirror_mode": {
    "name": "ipython",
    "version": 3
   },
   "file_extension": ".py",
   "mimetype": "text/x-python",
   "name": "python",
   "nbconvert_exporter": "python",
   "pygments_lexer": "ipython3",
   "version": "3.10.12"
  }
 },
 "nbformat": 4,
 "nbformat_minor": 2
}
